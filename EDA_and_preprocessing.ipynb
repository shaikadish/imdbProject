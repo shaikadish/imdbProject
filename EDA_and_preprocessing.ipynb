{
  "nbformat": 4,
  "nbformat_minor": 0,
  "metadata": {
    "colab": {
      "name": "EDA_and_preprocessing.ipynb",
      "provenance": [],
      "collapsed_sections": [
        "6uDcKSIqVtsX"
      ],
      "authorship_tag": "ABX9TyPc11ntSqUyx9BCFlTZ06qx",
      "include_colab_link": true
    },
    "kernelspec": {
      "name": "python3",
      "display_name": "Python 3"
    },
    "language_info": {
      "name": "python"
    }
  },
  "cells": [
    {
      "cell_type": "markdown",
      "metadata": {
        "id": "view-in-github",
        "colab_type": "text"
      },
      "source": [
        "<a href=\"https://colab.research.google.com/github/shaikadish/imdbProject/blob/main/EDA_and_preprocessing.ipynb\" target=\"_parent\"><img src=\"https://colab.research.google.com/assets/colab-badge.svg\" alt=\"Open In Colab\"/></a>"
      ]
    },
    {
      "cell_type": "markdown",
      "source": [
        "# Lets take a look...\n",
        "\n",
        "First thing is first. We need to see what exactly we have scraped from IMDB. This examination will take the form of Exploratory Data Analysis (EDA). Based on what we learn about the data, we should get a better idea about the kind of performance our final model will give us. Lets take a look!"
      ],
      "metadata": {
        "id": "5_ydrDjcHUNL"
      }
    },
    {
      "cell_type": "markdown",
      "source": [
        "# Imports and setup"
      ],
      "metadata": {
        "id": "SUk9Un-_IUOi"
      }
    },
    {
      "cell_type": "code",
      "execution_count": null,
      "metadata": {
        "id": "aKUM1x8A7HIW"
      },
      "outputs": [],
      "source": [
        "# Mount to google drive\n",
        "from google.colab import drive\n",
        "drive.mount('/content/drive')\n",
        "%cd drive/MyDrive/GitHub/IMDB_project/imdbProject"
      ]
    },
    {
      "cell_type": "code",
      "source": [
        "# Import libraries\n",
        "import pandas as pd\n",
        "import numpy as np\n",
        "import matplotlib.pyplot as plt"
      ],
      "metadata": {
        "id": "_Rw2svXF7Zpj"
      },
      "execution_count": 5,
      "outputs": []
    },
    {
      "cell_type": "code",
      "source": [
        "# Load in our scraped review data\n",
        "review_data=pd.read_csv('review_data.csv')\n",
        "review_data.head(5)"
      ],
      "metadata": {
        "colab": {
          "base_uri": "https://localhost:8080/",
          "height": 206
        },
        "id": "jhXP8m5l7cQe",
        "outputId": "9394096d-04a3-4d50-fb0b-b83c4107adec"
      },
      "execution_count": 8,
      "outputs": [
        {
          "output_type": "execute_result",
          "data": {
            "text/plain": [
              "                                        review_title  review_rating  \\\n",
              "0  A loving and charming depiction of losing a mo...              8   \n",
              "1                                           so true,              8   \n",
              "2                       Warning signs of a bad movie              1   \n",
              "3  A Weak Cast Offering Weak Performances In A Dr...              1   \n",
              "4                            Moderately entertaining              6   \n",
              "\n",
              "        review_date                                        review_body  \\\n",
              "0       17 May 2013  As a film lover I can't help immensely enjoyin...   \n",
              "1  4 September 2014  This movie is so true showing the heartbreakin...   \n",
              "2     11 March 2015  I just had a good laugh at sddavis63's review ...   \n",
              "3   29 January 2010  By the time \"Second Chances\" is finished, all ...   \n",
              "4    3 January 2017  A reporter who made an error of judgement find...   \n",
              "\n",
              "      movie_title  \n",
              "0      Mamma Gógó  \n",
              "1      Mamma Gógó  \n",
              "2  Second Chances  \n",
              "3  Second Chances  \n",
              "4  Second Chances  "
            ],
            "text/html": [
              "\n",
              "  <div id=\"df-cde120f8-f7ff-4f8e-89bb-af1406216e8e\">\n",
              "    <div class=\"colab-df-container\">\n",
              "      <div>\n",
              "<style scoped>\n",
              "    .dataframe tbody tr th:only-of-type {\n",
              "        vertical-align: middle;\n",
              "    }\n",
              "\n",
              "    .dataframe tbody tr th {\n",
              "        vertical-align: top;\n",
              "    }\n",
              "\n",
              "    .dataframe thead th {\n",
              "        text-align: right;\n",
              "    }\n",
              "</style>\n",
              "<table border=\"1\" class=\"dataframe\">\n",
              "  <thead>\n",
              "    <tr style=\"text-align: right;\">\n",
              "      <th></th>\n",
              "      <th>review_title</th>\n",
              "      <th>review_rating</th>\n",
              "      <th>review_date</th>\n",
              "      <th>review_body</th>\n",
              "      <th>movie_title</th>\n",
              "    </tr>\n",
              "  </thead>\n",
              "  <tbody>\n",
              "    <tr>\n",
              "      <th>0</th>\n",
              "      <td>A loving and charming depiction of losing a mo...</td>\n",
              "      <td>8</td>\n",
              "      <td>17 May 2013</td>\n",
              "      <td>As a film lover I can't help immensely enjoyin...</td>\n",
              "      <td>Mamma Gógó</td>\n",
              "    </tr>\n",
              "    <tr>\n",
              "      <th>1</th>\n",
              "      <td>so true,</td>\n",
              "      <td>8</td>\n",
              "      <td>4 September 2014</td>\n",
              "      <td>This movie is so true showing the heartbreakin...</td>\n",
              "      <td>Mamma Gógó</td>\n",
              "    </tr>\n",
              "    <tr>\n",
              "      <th>2</th>\n",
              "      <td>Warning signs of a bad movie</td>\n",
              "      <td>1</td>\n",
              "      <td>11 March 2015</td>\n",
              "      <td>I just had a good laugh at sddavis63's review ...</td>\n",
              "      <td>Second Chances</td>\n",
              "    </tr>\n",
              "    <tr>\n",
              "      <th>3</th>\n",
              "      <td>A Weak Cast Offering Weak Performances In A Dr...</td>\n",
              "      <td>1</td>\n",
              "      <td>29 January 2010</td>\n",
              "      <td>By the time \"Second Chances\" is finished, all ...</td>\n",
              "      <td>Second Chances</td>\n",
              "    </tr>\n",
              "    <tr>\n",
              "      <th>4</th>\n",
              "      <td>Moderately entertaining</td>\n",
              "      <td>6</td>\n",
              "      <td>3 January 2017</td>\n",
              "      <td>A reporter who made an error of judgement find...</td>\n",
              "      <td>Second Chances</td>\n",
              "    </tr>\n",
              "  </tbody>\n",
              "</table>\n",
              "</div>\n",
              "      <button class=\"colab-df-convert\" onclick=\"convertToInteractive('df-cde120f8-f7ff-4f8e-89bb-af1406216e8e')\"\n",
              "              title=\"Convert this dataframe to an interactive table.\"\n",
              "              style=\"display:none;\">\n",
              "        \n",
              "  <svg xmlns=\"http://www.w3.org/2000/svg\" height=\"24px\"viewBox=\"0 0 24 24\"\n",
              "       width=\"24px\">\n",
              "    <path d=\"M0 0h24v24H0V0z\" fill=\"none\"/>\n",
              "    <path d=\"M18.56 5.44l.94 2.06.94-2.06 2.06-.94-2.06-.94-.94-2.06-.94 2.06-2.06.94zm-11 1L8.5 8.5l.94-2.06 2.06-.94-2.06-.94L8.5 2.5l-.94 2.06-2.06.94zm10 10l.94 2.06.94-2.06 2.06-.94-2.06-.94-.94-2.06-.94 2.06-2.06.94z\"/><path d=\"M17.41 7.96l-1.37-1.37c-.4-.4-.92-.59-1.43-.59-.52 0-1.04.2-1.43.59L10.3 9.45l-7.72 7.72c-.78.78-.78 2.05 0 2.83L4 21.41c.39.39.9.59 1.41.59.51 0 1.02-.2 1.41-.59l7.78-7.78 2.81-2.81c.8-.78.8-2.07 0-2.86zM5.41 20L4 18.59l7.72-7.72 1.47 1.35L5.41 20z\"/>\n",
              "  </svg>\n",
              "      </button>\n",
              "      \n",
              "  <style>\n",
              "    .colab-df-container {\n",
              "      display:flex;\n",
              "      flex-wrap:wrap;\n",
              "      gap: 12px;\n",
              "    }\n",
              "\n",
              "    .colab-df-convert {\n",
              "      background-color: #E8F0FE;\n",
              "      border: none;\n",
              "      border-radius: 50%;\n",
              "      cursor: pointer;\n",
              "      display: none;\n",
              "      fill: #1967D2;\n",
              "      height: 32px;\n",
              "      padding: 0 0 0 0;\n",
              "      width: 32px;\n",
              "    }\n",
              "\n",
              "    .colab-df-convert:hover {\n",
              "      background-color: #E2EBFA;\n",
              "      box-shadow: 0px 1px 2px rgba(60, 64, 67, 0.3), 0px 1px 3px 1px rgba(60, 64, 67, 0.15);\n",
              "      fill: #174EA6;\n",
              "    }\n",
              "\n",
              "    [theme=dark] .colab-df-convert {\n",
              "      background-color: #3B4455;\n",
              "      fill: #D2E3FC;\n",
              "    }\n",
              "\n",
              "    [theme=dark] .colab-df-convert:hover {\n",
              "      background-color: #434B5C;\n",
              "      box-shadow: 0px 1px 3px 1px rgba(0, 0, 0, 0.15);\n",
              "      filter: drop-shadow(0px 1px 2px rgba(0, 0, 0, 0.3));\n",
              "      fill: #FFFFFF;\n",
              "    }\n",
              "  </style>\n",
              "\n",
              "      <script>\n",
              "        const buttonEl =\n",
              "          document.querySelector('#df-cde120f8-f7ff-4f8e-89bb-af1406216e8e button.colab-df-convert');\n",
              "        buttonEl.style.display =\n",
              "          google.colab.kernel.accessAllowed ? 'block' : 'none';\n",
              "\n",
              "        async function convertToInteractive(key) {\n",
              "          const element = document.querySelector('#df-cde120f8-f7ff-4f8e-89bb-af1406216e8e');\n",
              "          const dataTable =\n",
              "            await google.colab.kernel.invokeFunction('convertToInteractive',\n",
              "                                                     [key], {});\n",
              "          if (!dataTable) return;\n",
              "\n",
              "          const docLinkHtml = 'Like what you see? Visit the ' +\n",
              "            '<a target=\"_blank\" href=https://colab.research.google.com/notebooks/data_table.ipynb>data table notebook</a>'\n",
              "            + ' to learn more about interactive tables.';\n",
              "          element.innerHTML = '';\n",
              "          dataTable['output_type'] = 'display_data';\n",
              "          await google.colab.output.renderOutput(dataTable, element);\n",
              "          const docLink = document.createElement('div');\n",
              "          docLink.innerHTML = docLinkHtml;\n",
              "          element.appendChild(docLink);\n",
              "        }\n",
              "      </script>\n",
              "    </div>\n",
              "  </div>\n",
              "  "
            ]
          },
          "metadata": {},
          "execution_count": 8
        }
      ]
    },
    {
      "cell_type": "markdown",
      "source": [
        "# Review trend analysis\n",
        "\n",
        "We will start with some analysis for interests sake. First, lets see how review trends have changed in the last 12 years:\n",
        "\n"
      ],
      "metadata": {
        "id": "6uDcKSIqVtsX"
      }
    },
    {
      "cell_type": "code",
      "source": [
        "# First, make a list of the year in which each review was written\n",
        "year_list=[]\n",
        "for date in review_data['review_date']:\n",
        "  year_list.append(date.split(' ')[-1])\n",
        "\n",
        "# Next, make a list of DataFrames, with each element in the list representing all reviews for a specific year\n",
        "years=['2010','2011','2012','2013','2014','2015','2016','2017','2018','2019','2020','2021','2022']\n",
        "year_dfs=[]\n",
        "for year in years:\n",
        "  year_dfs.append(review_data[pd.Series(year_list)==year])\n",
        "\n",
        "# Get review counts and average reviews for each year\n",
        "review_count=[]\n",
        "review_mean=[]\n",
        "for year in year_dfs:\n",
        "  review_count.append(year.shape[0])\n",
        "  review_mean.append(year['review_rating'].to_numpy().mean())\n",
        "\n",
        "# Plot results\n",
        "x=[2010,2011,2012,2013,2014,2015,2016,2017,2018,2019,2020,2021,2022]\n",
        "f, (ax1, ax2) = plt.subplots(1, 2)\n",
        "ax1.plot(x, review_mean)\n",
        "ax1.set_title('Mean review score across years')\n",
        "ax2.plot(x, review_count)\n",
        "ax2.set_title('Review count across years')\n",
        "\n",
        "f.tight_layout()"
      ],
      "metadata": {
        "id": "jo4ov4f78dRc",
        "colab": {
          "base_uri": "https://localhost:8080/",
          "height": 297
        },
        "outputId": "2116cd1a-b5ed-4e65-afe2-2a2697418e40"
      },
      "execution_count": 28,
      "outputs": [
        {
          "output_type": "display_data",
          "data": {
            "text/plain": [
              "<Figure size 432x288 with 2 Axes>"
            ],
            "image/png": "[encoded data removed]"
          },
          "metadata": {
            "needs_background": "light"
          }
        }
      ]
    },
    {
      "cell_type": "markdown",
      "source": [
        "This is a very intersting result! Firstly, it is clear that reviews have increasingly become more cynical across the years. This could be a result of a maturing of the online review format: As people become more used to watching, reading, and writing online film reviews, they might also be becoming more critical.\n",
        "\n",
        "The second figure also reveals something interesting: in 2017, people started writing way more IMDB reviews. If you look at the [top grossing movies of that year](https://www.boxofficemojo.com/year/2017/), it may reveal why. There are five super hero movies in the top ten highest grosing films of that year! These are films with passionate fan bases, who are likely to engage with the critical discourse online. Additionally, two *Star Wars* films came out that year, with one of them being *The Last Jedi*, a highly controvercial film in the *Star Wars* cannon, which produced a tsunami of online discourse. The discussion produced by these films might have introduced new people to IMDB and its review format, creating a boom which is still continuing today.\n",
        "\n",
        "If you are wondering about the dip at the end, that is for 2022, which at the time of writing is only in the month of May."
      ],
      "metadata": {
        "id": "vuvPK-8cS5_w"
      }
    },
    {
      "cell_type": "markdown",
      "source": [
        "# Rating analysis\n",
        "\n",
        "The first data we will look at are the review ratings. Even although our model is going to be trained for regression, due the contiguous nature of review scores, it is useful to analyze the ratings as if they are discrete classes, as this will reveal potential biases the network might inherit from the data."
      ],
      "metadata": {
        "id": "UWMiOEvryUN2"
      }
    },
    {
      "cell_type": "markdown",
      "source": [
        "Let's look at the distribution and size of our dataset:"
      ],
      "metadata": {
        "id": "MHzwzZ_3VrAf"
      }
    },
    {
      "cell_type": "code",
      "source": [
        "# Get review ratings\n",
        "ratings=review_data['review_rating'].to_numpy()\n",
        "\n",
        "print(f\"Number of reviews: {len(ratings)}\")\n",
        "print(f'Mean: {round(ratings.mean(),1)}')\n",
        "print(f'Median: {round(np.median(ratings),1)}')\n",
        "\n",
        "x=[1,2,3,4,5,6,7,8,9,10]\n",
        "plt.title(\"Probability density of each review score\")\n",
        "plt.bar(x, np.histogram(ratings,density=True)[0], align='center')\n",
        "plt.xticks(x)\n",
        "plt.show()"
      ],
      "metadata": {
        "colab": {
          "base_uri": "https://localhost:8080/",
          "height": 334
        },
        "id": "3tXRdKDS7yl6",
        "outputId": "3e3db2bc-ab6b-451c-b166-29d16090496a"
      },
      "execution_count": 33,
      "outputs": [
        {
          "output_type": "stream",
          "name": "stdout",
          "text": [
            "Number of reviews: 167634\n",
            "Mean: 5.9\n",
            "Median: 7.0\n"
          ]
        },
        {
          "output_type": "display_data",
          "data": {
            "text/plain": [
              "<Figure size 432x288 with 1 Axes>"
            ],
            "image/png": "[encoded data removed]"
          },
          "metadata": {
            "needs_background": "light"
          }
        }
      ]
    },
    {
      "cell_type": "code",
      "source": [
        "review_count\n",
        "review_mean"
      ],
      "metadata": {
        "colab": {
          "base_uri": "https://localhost:8080/"
        },
        "id": "kP7XOTzlwZ2u",
        "outputId": "e6713d6c-9b0b-48d1-ac42-bfc25f8f0532"
      },
      "execution_count": null,
      "outputs": [
        {
          "output_type": "execute_result",
          "data": {
            "text/plain": [
              "[6.556345177664975,\n",
              " 6.330494728304947,\n",
              " 6.2878547759688805,\n",
              " 6.079274004683841,\n",
              " 6.074350257703696,\n",
              " 6.062678062678063,\n",
              " 6.0445020522791095,\n",
              " 5.77830150345388,\n",
              " 5.821600398164022,\n",
              " 5.7893035043257886,\n",
              " 5.908352668213457,\n",
              " 5.768303540853366,\n",
              " 5.599712540424003]"
            ]
          },
          "metadata": {},
          "execution_count": 23
        }
      ]
    },
    {
      "cell_type": "markdown",
      "source": [
        "# Text analysis"
      ],
      "metadata": {
        "id": "ffsWIjG4ylYA"
      }
    },
    {
      "cell_type": "code",
      "source": [
        "review_data.head(20)"
      ],
      "metadata": {
        "colab": {
          "base_uri": "https://localhost:8080/",
          "height": 5778
        },
        "id": "ERlEp2-vy527",
        "outputId": "62b6004b-2e85-4fe5-f8a0-214180c711a1"
      },
      "execution_count": null,
      "outputs": [
        {
          "output_type": "execute_result",
          "data": {
            "text/plain": [
              "                                         review_title  review_rating  \\\n",
              "0   A loving and charming depiction of losing a mo...              8   \n",
              "1                                            so true,              8   \n",
              "2                        Warning signs of a bad movie              1   \n",
              "3   A Weak Cast Offering Weak Performances In A Dr...              1   \n",
              "4                             Moderately entertaining              6   \n",
              "5                             Soap Opera or Thriller?              4   \n",
              "6                           some problems in TV movie              5   \n",
              "7        Boring, predictable and acting was not great              3   \n",
              "8                 Melissa George and everything else.              3   \n",
              "9                 \"Be Aware and Keep Your Eyes Open!\"              1   \n",
              "10                       Location, Location, Location              2   \n",
              "11                                          Hilarious              9   \n",
              "12  Straightforward Account of a Long-Running BBC ...              6   \n",
              "13                                          Brilliant             10   \n",
              "14  Good Movie for People who like bands such as P...              7   \n",
              "15       Story is so so but still very worth watching              8   \n",
              "16               Awesome Anime, Terrible voice acting              5   \n",
              "17                                           Dreadful              1   \n",
              "18                       Fun independent horror film.              5   \n",
              "19  film students decide to kill 99 minutes of you...              2   \n",
              "\n",
              "          review_date                                        review_body  \\\n",
              "0         17 May 2013  As a film lover I can't help immensely enjoyin...   \n",
              "1    4 September 2014  This movie is so true showing the heartbreakin...   \n",
              "2       11 March 2015  I just had a good laugh at sddavis63's review ...   \n",
              "3     29 January 2010  By the time \"Second Chances\" is finished, all ...   \n",
              "4      3 January 2017  A reporter who made an error of judgement find...   \n",
              "5     11 January 2017  I'm not too sure what the writers, Angelique P...   \n",
              "6       25 April 2019  Boston serial killer Max Hersog has been in pr...   \n",
              "7    11 November 2020  I had an interest in seeing this movie due to ...   \n",
              "8   29 September 2021  The movie is straight trash but Melissa George...   \n",
              "9    5 September 2017  It is easy to tell when the protagonist in a c...   \n",
              "10     9 January 2022  Was anyone responsible for researching the loc...   \n",
              "11   22 December 2010  Funniest, on-point stand up act that I have ev...   \n",
              "12   18 February 2016  ARE YOU BEING SERVED? began life as a COMEDY P...   \n",
              "13       4 April 2020  Absolutely lovely documentary. Really nice to ...   \n",
              "14      18 March 2011  This film a tests to the human spirit and purs...   \n",
              "15        11 May 2015  This movie cost 30 million dollars. Was the mo...   \n",
              "16    16 January 2020  Great animation. It has awesome 80s robot acti...   \n",
              "17      26 March 2021  A mockumentary made on an indie budget. Lots o...   \n",
              "18   19 December 2008  I go to see a screening of this recently with ...   \n",
              "19      20 April 2010  This is not a movie.This would be more conside...   \n",
              "\n",
              "                                      movie_title  \n",
              "0                                      Mamma Gógó  \n",
              "1                                      Mamma Gógó  \n",
              "2                                  Second Chances  \n",
              "3                                  Second Chances  \n",
              "4                                  Second Chances  \n",
              "5                                  Second Chances  \n",
              "6                                  Second Chances  \n",
              "7                                  Second Chances  \n",
              "8                                  Second Chances  \n",
              "9                                  Second Chances  \n",
              "10                                 Second Chances  \n",
              "11                     Jake Johannsen: I Love You  \n",
              "12           The Story of 'Are You Being Served?'  \n",
              "13           The Story of 'Are You Being Served?'  \n",
              "14  Sigmund Fried Laser Light Show Rock-u-mentary  \n",
              "15                   Space Pirate Captain Harlock  \n",
              "16                                 Danguard Ace 3  \n",
              "17                                     Fake Blood  \n",
              "18                                    Blood Trail  \n",
              "19                                       Hellweek  "
            ],
            "text/html": [
              "\n",
              "  <div id=\"df-c9edf9d7-6c4f-4d03-96d3-f491ed5772cc\">\n",
              "    <div class=\"colab-df-container\">\n",
              "      <div>\n",
              "<style scoped>\n",
              "    .dataframe tbody tr th:only-of-type {\n",
              "        vertical-align: middle;\n",
              "    }\n",
              "\n",
              "    .dataframe tbody tr th {\n",
              "        vertical-align: top;\n",
              "    }\n",
              "\n",
              "    .dataframe thead th {\n",
              "        text-align: right;\n",
              "    }\n",
              "</style>\n",
              "<table border=\"1\" class=\"dataframe\">\n",
              "  <thead>\n",
              "    <tr style=\"text-align: right;\">\n",
              "      <th></th>\n",
              "      <th>review_title</th>\n",
              "      <th>review_rating</th>\n",
              "      <th>review_date</th>\n",
              "      <th>review_body</th>\n",
              "      <th>movie_title</th>\n",
              "    </tr>\n",
              "  </thead>\n",
              "  <tbody>\n",
              "    <tr>\n",
              "      <th>0</th>\n",
              "      <td>A loving and charming depiction of losing a mo...</td>\n",
              "      <td>8</td>\n",
              "      <td>17 May 2013</td>\n",
              "      <td>As a film lover I can't help immensely enjoyin...</td>\n",
              "      <td>Mamma Gógó</td>\n",
              "    </tr>\n",
              "    <tr>\n",
              "      <th>1</th>\n",
              "      <td>so true,</td>\n",
              "      <td>8</td>\n",
              "      <td>4 September 2014</td>\n",
              "      <td>This movie is so true showing the heartbreakin...</td>\n",
              "      <td>Mamma Gógó</td>\n",
              "    </tr>\n",
              "    <tr>\n",
              "      <th>2</th>\n",
              "      <td>Warning signs of a bad movie</td>\n",
              "      <td>1</td>\n",
              "      <td>11 March 2015</td>\n",
              "      <td>I just had a good laugh at sddavis63's review ...</td>\n",
              "      <td>Second Chances</td>\n",
              "    </tr>\n",
              "    <tr>\n",
              "      <th>3</th>\n",
              "      <td>A Weak Cast Offering Weak Performances In A Dr...</td>\n",
              "      <td>1</td>\n",
              "      <td>29 January 2010</td>\n",
              "      <td>By the time \"Second Chances\" is finished, all ...</td>\n",
              "      <td>Second Chances</td>\n",
              "    </tr>\n",
              "    <tr>\n",
              "      <th>4</th>\n",
              "      <td>Moderately entertaining</td>\n",
              "      <td>6</td>\n",
              "      <td>3 January 2017</td>\n",
              "      <td>A reporter who made an error of judgement find...</td>\n",
              "      <td>Second Chances</td>\n",
              "    </tr>\n",
              "    <tr>\n",
              "      <th>5</th>\n",
              "      <td>Soap Opera or Thriller?</td>\n",
              "      <td>4</td>\n",
              "      <td>11 January 2017</td>\n",
              "      <td>I'm not too sure what the writers, Angelique P...</td>\n",
              "      <td>Second Chances</td>\n",
              "    </tr>\n",
              "    <tr>\n",
              "      <th>6</th>\n",
              "      <td>some problems in TV movie</td>\n",
              "      <td>5</td>\n",
              "      <td>25 April 2019</td>\n",
              "      <td>Boston serial killer Max Hersog has been in pr...</td>\n",
              "      <td>Second Chances</td>\n",
              "    </tr>\n",
              "    <tr>\n",
              "      <th>7</th>\n",
              "      <td>Boring, predictable and acting was not great</td>\n",
              "      <td>3</td>\n",
              "      <td>11 November 2020</td>\n",
              "      <td>I had an interest in seeing this movie due to ...</td>\n",
              "      <td>Second Chances</td>\n",
              "    </tr>\n",
              "    <tr>\n",
              "      <th>8</th>\n",
              "      <td>Melissa George and everything else.</td>\n",
              "      <td>3</td>\n",
              "      <td>29 September 2021</td>\n",
              "      <td>The movie is straight trash but Melissa George...</td>\n",
              "      <td>Second Chances</td>\n",
              "    </tr>\n",
              "    <tr>\n",
              "      <th>9</th>\n",
              "      <td>\"Be Aware and Keep Your Eyes Open!\"</td>\n",
              "      <td>1</td>\n",
              "      <td>5 September 2017</td>\n",
              "      <td>It is easy to tell when the protagonist in a c...</td>\n",
              "      <td>Second Chances</td>\n",
              "    </tr>\n",
              "    <tr>\n",
              "      <th>10</th>\n",
              "      <td>Location, Location, Location</td>\n",
              "      <td>2</td>\n",
              "      <td>9 January 2022</td>\n",
              "      <td>Was anyone responsible for researching the loc...</td>\n",
              "      <td>Second Chances</td>\n",
              "    </tr>\n",
              "    <tr>\n",
              "      <th>11</th>\n",
              "      <td>Hilarious</td>\n",
              "      <td>9</td>\n",
              "      <td>22 December 2010</td>\n",
              "      <td>Funniest, on-point stand up act that I have ev...</td>\n",
              "      <td>Jake Johannsen: I Love You</td>\n",
              "    </tr>\n",
              "    <tr>\n",
              "      <th>12</th>\n",
              "      <td>Straightforward Account of a Long-Running BBC ...</td>\n",
              "      <td>6</td>\n",
              "      <td>18 February 2016</td>\n",
              "      <td>ARE YOU BEING SERVED? began life as a COMEDY P...</td>\n",
              "      <td>The Story of 'Are You Being Served?'</td>\n",
              "    </tr>\n",
              "    <tr>\n",
              "      <th>13</th>\n",
              "      <td>Brilliant</td>\n",
              "      <td>10</td>\n",
              "      <td>4 April 2020</td>\n",
              "      <td>Absolutely lovely documentary. Really nice to ...</td>\n",
              "      <td>The Story of 'Are You Being Served?'</td>\n",
              "    </tr>\n",
              "    <tr>\n",
              "      <th>14</th>\n",
              "      <td>Good Movie for People who like bands such as P...</td>\n",
              "      <td>7</td>\n",
              "      <td>18 March 2011</td>\n",
              "      <td>This film a tests to the human spirit and purs...</td>\n",
              "      <td>Sigmund Fried Laser Light Show Rock-u-mentary</td>\n",
              "    </tr>\n",
              "    <tr>\n",
              "      <th>15</th>\n",
              "      <td>Story is so so but still very worth watching</td>\n",
              "      <td>8</td>\n",
              "      <td>11 May 2015</td>\n",
              "      <td>This movie cost 30 million dollars. Was the mo...</td>\n",
              "      <td>Space Pirate Captain Harlock</td>\n",
              "    </tr>\n",
              "    <tr>\n",
              "      <th>16</th>\n",
              "      <td>Awesome Anime, Terrible voice acting</td>\n",
              "      <td>5</td>\n",
              "      <td>16 January 2020</td>\n",
              "      <td>Great animation. It has awesome 80s robot acti...</td>\n",
              "      <td>Danguard Ace 3</td>\n",
              "    </tr>\n",
              "    <tr>\n",
              "      <th>17</th>\n",
              "      <td>Dreadful</td>\n",
              "      <td>1</td>\n",
              "      <td>26 March 2021</td>\n",
              "      <td>A mockumentary made on an indie budget. Lots o...</td>\n",
              "      <td>Fake Blood</td>\n",
              "    </tr>\n",
              "    <tr>\n",
              "      <th>18</th>\n",
              "      <td>Fun independent horror film.</td>\n",
              "      <td>5</td>\n",
              "      <td>19 December 2008</td>\n",
              "      <td>I go to see a screening of this recently with ...</td>\n",
              "      <td>Blood Trail</td>\n",
              "    </tr>\n",
              "    <tr>\n",
              "      <th>19</th>\n",
              "      <td>film students decide to kill 99 minutes of you...</td>\n",
              "      <td>2</td>\n",
              "      <td>20 April 2010</td>\n",
              "      <td>This is not a movie.This would be more conside...</td>\n",
              "      <td>Hellweek</td>\n",
              "    </tr>\n",
              "  </tbody>\n",
              "</table>\n",
              "</div>\n",
              "      <button class=\"colab-df-convert\" onclick=\"convertToInteractive('df-c9edf9d7-6c4f-4d03-96d3-f491ed5772cc')\"\n",
              "              title=\"Convert this dataframe to an interactive table.\"\n",
              "              style=\"display:none;\">\n",
              "        \n",
              "  <svg xmlns=\"http://www.w3.org/2000/svg\" height=\"24px\"viewBox=\"0 0 24 24\"\n",
              "       width=\"24px\">\n",
              "    <path d=\"M0 0h24v24H0V0z\" fill=\"none\"/>\n",
              "    <path d=\"M18.56 5.44l.94 2.06.94-2.06 2.06-.94-2.06-.94-.94-2.06-.94 2.06-2.06.94zm-11 1L8.5 8.5l.94-2.06 2.06-.94-2.06-.94L8.5 2.5l-.94 2.06-2.06.94zm10 10l.94 2.06.94-2.06 2.06-.94-2.06-.94-.94-2.06-.94 2.06-2.06.94z\"/><path d=\"M17.41 7.96l-1.37-1.37c-.4-.4-.92-.59-1.43-.59-.52 0-1.04.2-1.43.59L10.3 9.45l-7.72 7.72c-.78.78-.78 2.05 0 2.83L4 21.41c.39.39.9.59 1.41.59.51 0 1.02-.2 1.41-.59l7.78-7.78 2.81-2.81c.8-.78.8-2.07 0-2.86zM5.41 20L4 18.59l7.72-7.72 1.47 1.35L5.41 20z\"/>\n",
              "  </svg>\n",
              "      </button>\n",
              "      \n",
              "  <style>\n",
              "    .colab-df-container {\n",
              "      display:flex;\n",
              "      flex-wrap:wrap;\n",
              "      gap: 12px;\n",
              "    }\n",
              "\n",
              "    .colab-df-convert {\n",
              "      background-color: #E8F0FE;\n",
              "      border: none;\n",
              "      border-radius: 50%;\n",
              "      cursor: pointer;\n",
              "      display: none;\n",
              "      fill: #1967D2;\n",
              "      height: 32px;\n",
              "      padding: 0 0 0 0;\n",
              "      width: 32px;\n",
              "    }\n",
              "\n",
              "    .colab-df-convert:hover {\n",
              "      background-color: #E2EBFA;\n",
              "      box-shadow: 0px 1px 2px rgba(60, 64, 67, 0.3), 0px 1px 3px 1px rgba(60, 64, 67, 0.15);\n",
              "      fill: #174EA6;\n",
              "    }\n",
              "\n",
              "    [theme=dark] .colab-df-convert {\n",
              "      background-color: #3B4455;\n",
              "      fill: #D2E3FC;\n",
              "    }\n",
              "\n",
              "    [theme=dark] .colab-df-convert:hover {\n",
              "      background-color: #434B5C;\n",
              "      box-shadow: 0px 1px 3px 1px rgba(0, 0, 0, 0.15);\n",
              "      filter: drop-shadow(0px 1px 2px rgba(0, 0, 0, 0.3));\n",
              "      fill: #FFFFFF;\n",
              "    }\n",
              "  </style>\n",
              "\n",
              "      <script>\n",
              "        const buttonEl =\n",
              "          document.querySelector('#df-c9edf9d7-6c4f-4d03-96d3-f491ed5772cc button.colab-df-convert');\n",
              "        buttonEl.style.display =\n",
              "          google.colab.kernel.accessAllowed ? 'block' : 'none';\n",
              "\n",
              "        async function convertToInteractive(key) {\n",
              "          const element = document.querySelector('#df-c9edf9d7-6c4f-4d03-96d3-f491ed5772cc');\n",
              "          const dataTable =\n",
              "            await google.colab.kernel.invokeFunction('convertToInteractive',\n",
              "                                                     [key], {});\n",
              "          if (!dataTable) return;\n",
              "\n",
              "          const docLinkHtml = 'Like what you see? Visit the ' +\n",
              "            '<a target=\"_blank\" href=https://colab.research.google.com/notebooks/data_table.ipynb>data table notebook</a>'\n",
              "            + ' to learn more about interactive tables.';\n",
              "          element.innerHTML = '';\n",
              "          dataTable['output_type'] = 'display_data';\n",
              "          await google.colab.output.renderOutput(dataTable, element);\n",
              "          const docLink = document.createElement('div');\n",
              "          docLink.innerHTML = docLinkHtml;\n",
              "          element.appendChild(docLink);\n",
              "        }\n",
              "      </script>\n",
              "    </div>\n",
              "  </div>\n",
              "  "
            ]
          },
          "metadata": {},
          "execution_count": 48
        }
      ]
    },
    {
      "cell_type": "code",
      "source": [
        "# Get rid of helpfullness comment\n",
        "for i,review_body in enumerate(review_data['review_body']):\n",
        "  if review_body.find('\\n                \\n                    ')!=-1:\n",
        "    review_data['review_body'].iloc[i]=review_body[:review_body.find('\\n                \\n                    ')]\n",
        "\n",
        "review_data.to_csv('review_data_clean.csv',index=False)"
      ],
      "metadata": {
        "id": "ljf_cn8pyjHc"
      },
      "execution_count": null,
      "outputs": []
    },
    {
      "cell_type": "code",
      "source": [
        "review_data=pd.read_csv('review_data_clean.csv')"
      ],
      "metadata": {
        "id": "gMCln4PaA7CF"
      },
      "execution_count": null,
      "outputs": []
    },
    {
      "cell_type": "code",
      "source": [
        "training_data=pd.DataFrame(zip(review_data.review_body,review_data.review_rating))\n",
        "training_data.to_csv('review_data_learning.csv',index=False)"
      ],
      "metadata": {
        "id": "Sq7KQoGGBQnl"
      },
      "execution_count": null,
      "outputs": []
    },
    {
      "cell_type": "code",
      "source": [
        "# USES TOO MUCH RAM. DO THIS JUST FOR 2021?\n",
        "from wordcloud import WordCloud\n",
        "import matplotlib.pyplot as plt\n",
        "\n",
        "# make corpus\n",
        "body_list= review_data['review_body'].tolist()\n",
        "corpus=' '.join(body_list)\n",
        "\n",
        "# Generate a word cloud image\n",
        "wordcloud = WordCloud().generate(corpus)\n",
        "\n",
        "# Display the generated image:\n",
        "# the matplotlib way:\n",
        "import matplotlib.pyplot as plt\n",
        "plt.imshow(wordcloud, interpolation='bilinear')\n",
        "plt.axis(\"off\")\n",
        "plt.show()"
      ],
      "metadata": {
        "id": "7zAwz01V8fNr"
      },
      "execution_count": null,
      "outputs": []
    },
    {
      "cell_type": "markdown",
      "source": [
        "Talk about the fact that the information content is not always there to decipher the score, or there could be massive inconsistensies between the types of reviews left for specific ratings. Cherry pick examples to show this."
      ],
      "metadata": {
        "id": "lN852JxrWsAo"
      }
    }
  ]
}