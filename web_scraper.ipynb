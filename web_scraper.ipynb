{
  "nbformat": 4,
  "nbformat_minor": 0,
  "metadata": {
    "colab": {
      "name": "web_scraper.ipynb",
      "provenance": [],
      "collapsed_sections": [],
      "authorship_tag": "ABX9TyOemvLmrJwYvnOaIFbYoHEG",
      "include_colab_link": true
    },
    "kernelspec": {
      "name": "python3",
      "display_name": "Python 3"
    },
    "language_info": {
      "name": "python"
    }
  },
  "cells": [
    {
      "cell_type": "markdown",
      "metadata": {
        "id": "view-in-github",
        "colab_type": "text"
      },
      "source": [
        "<a href=\"https://colab.research.google.com/github/shaikadish/imdbProject/blob/main/web_scraper.ipynb\" target=\"_parent\"><img src=\"https://colab.research.google.com/assets/colab-badge.svg\" alt=\"Open In Colab\"/></a>"
      ]
    },
    {
      "cell_type": "code",
      "execution_count": null,
      "metadata": {
        "colab": {
          "base_uri": "https://localhost:8080/"
        },
        "id": "EjK7_udlZyBX",
        "outputId": "94406df0-370b-4cdc-c90d-e4d9cf2ace47"
      },
      "outputs": [
        {
          "output_type": "stream",
          "name": "stdout",
          "text": [
            "Mounted at /content/drive\n"
          ]
        }
      ],
      "source": [
        "from google.colab import drive\n",
        "drive.mount('/content/drive')"
      ]
    },
    {
      "cell_type": "code",
      "source": [
        "%cd drive/MyDrive/GitHub/IMDB_project/imdbProject"
      ],
      "metadata": {
        "colab": {
          "base_uri": "https://localhost:8080/"
        },
        "id": "nkvhZS88hDo9",
        "outputId": "df63c8e3-8021-4c81-9db7-cf2695c18799"
      },
      "execution_count": null,
      "outputs": [
        {
          "output_type": "stream",
          "name": "stdout",
          "text": [
            "/content/drive/MyDrive/GitHub/IMDB_project/imdbProject\n"
          ]
        }
      ]
    },
    {
      "cell_type": "code",
      "source": [
        "!pip install selenium\n",
        "!apt-get update \n",
        "!apt install chromium-chromedriver\n",
        "!pip install beautifulsoup4\n",
        "\n",
        "from selenium import webdriver\n",
        "chrome_options = webdriver.ChromeOptions()\n",
        "chrome_options.add_argument('--headless')\n",
        "chrome_options.add_argument('--no-sandbox')\n",
        "chrome_options.add_argument('--disable-dev-shm-usage')\n",
        "driver = webdriver.Chrome('chromedriver',chrome_options=chrome_options)"
      ],
      "metadata": {
        "id": "AR2TXAN0nvGL"
      },
      "execution_count": null,
      "outputs": []
    },
    {
      "cell_type": "code",
      "source": [
        "import selenium\n",
        "import requests #needed to load the page for BS4\n",
        "from bs4 import BeautifulSoup\n",
        "import pandas as pd #Using panda to create our dataframe"
      ],
      "metadata": {
        "colab": {
          "base_uri": "https://localhost:8080/"
        },
        "id": "GyN5wMyUpMKN",
        "outputId": "a8d38d7b-9f09-48fc-ede5-179703e9c91f"
      },
      "execution_count": null,
      "outputs": [
        {
          "output_type": "stream",
          "name": "stderr",
          "text": [
            "/usr/local/lib/python3.7/dist-packages/requests/__init__.py:91: RequestsDependencyWarning: urllib3 (1.26.9) or chardet (3.0.4) doesn't match a supported version!\n",
            "  RequestsDependencyWarning)\n"
          ]
        }
      ]
    },
    {
      "cell_type": "code",
      "source": [
        "driver = webdriver.Chrome('chromedriver',chrome_options=chrome_options)"
      ],
      "metadata": {
        "colab": {
          "base_uri": "https://localhost:8080/"
        },
        "id": "VnnoIS6AsiPw",
        "outputId": "0542803f-3e84-4658-da94-964d04b79c37"
      },
      "execution_count": null,
      "outputs": [
        {
          "output_type": "stream",
          "name": "stderr",
          "text": [
            "/usr/local/lib/python3.7/dist-packages/ipykernel_launcher.py:1: DeprecationWarning: use options instead of chrome_options\n",
            "  \"\"\"Entry point for launching an IPython kernel.\n"
          ]
        }
      ]
    },
    {
      "cell_type": "code",
      "source": [
        "# Making dictionary of links to movie pages\n",
        "\n",
        "\n",
        "initial_link_dictionary={'movie_title':[],'movie_link':[],'year':[]}\n",
        "# Feature Film/TV Movie, Released between 2010-01-01 and 2022-01-01, English, Including Adult Titles (Sorted by Year Ascending)\n",
        "url = f\"https://www.imdb.com/search/title/?title_type=feature,tv_movie&release_date=2010-01-01,2022-01-01&languages=en&adult=include&sort=release_date,asc&start={0}&ref_=adv_nxt\"\n",
        "driver.get(url) \n",
        "\n",
        "for page_idx in range(0,1700):\n",
        "  # Each loop collects the URL's for the movies on that page\n",
        "\n",
        "  #Grab the block of each individual movie\n",
        "  block = driver.find_elements_by_class_name('lister-item')\n",
        "  #Set up for loop to run through all 50 movies on page\n",
        "  for i in range(0,25):\n",
        "      \n",
        "      #Extracting title\n",
        "      ftitle = block[i].find_element_by_class_name('lister-item-header').text\n",
        "      #The extracted title has extra elements, so we will have to do some cleaning\n",
        "      \n",
        "      #Remove the order in front of the title\n",
        "      forder = block[i].find_element_by_class_name('lister-item-index').text\n",
        "      #Extract the year at the end\n",
        "      fyear = block[i].find_element_by_class_name('lister-item-year').text\n",
        "      #Drop the order and year and only keep the movie's name\n",
        "      ftitle=ftitle.replace(\" \"+fyear,\"\")\n",
        "      ftitle = ftitle.replace(forder+' ', '')\n",
        "      #Then extract the link with cleaned title\n",
        "      flink = block[i].find_element_by_link_text(ftitle).get_attribute('href')\n",
        "  #Add item to the respective lists\n",
        "      initial_link_dictionary['movie_title'].append(ftitle)\n",
        "      initial_link_dictionary['year'].append(fyear[1:5])\n",
        "      initial_link_dictionary['movie_link'].append(flink)\n",
        "    \n",
        "  # Go to next page\n",
        "  load_more = driver.find_element_by_class_name('next-page')\n",
        "  #click on that button\n",
        "  load_more.click()\n",
        "  \n",
        "movie_url_df=pd.DataFrame(data=initial_link_dictionary)\n",
        "movie_url_df.to_csv('movie_urls.csv')\n"
      ],
      "metadata": {
        "id": "uN5-ZInqpjCB"
      },
      "execution_count": null,
      "outputs": []
    },
    {
      "cell_type": "code",
      "source": [
        "# get url for user review pages for each movie. Necessary because these links are not accessible from movie browsing page\n",
        "\n",
        "#Set an empty list to store user review link\n",
        "final_link_dictionary={'movie_title':[],'movie_link':[],'review_link':[],'year':[]}\n",
        "for (url,movie_title,year) in zip(initial_link_dictionary['movie_link'],initial_link_dictionary['movie_title'],initial_link_dictionary['year']):\n",
        "    try:\n",
        "      #setup user agent for BS4, except some rare case, it would be the same for most browser \n",
        "      user_agent = {'User-Agent': 'Requests'}\n",
        "      #Use request.get to load the whole page\n",
        "      response = requests.get(url, headers = user_agent)\n",
        "      #Parse the requests object to BS4 to transform it into html structure\n",
        "      soup = BeautifulSoup(response.text, 'html.parser')\n",
        "      #Find the link marked by the USER REVIEWS link text.\n",
        "      review_link=url.split('/')\n",
        "      review_link[-1]=soup.find('a', text = 'User reviews').get('href')\n",
        "      review_link='/'.join(review_link) # This is a link to the page of all user reviews for a movie\n",
        "      #Append the newly grabed link into its list\n",
        "      #user_review_links.append(review_link)\n",
        "      final_link_dictionary['movie_title'].append(movie_title)\n",
        "      final_link_dictionary['movie_link'].append(url)\n",
        "      final_link_dictionary['year'].append(year)\n",
        "      final_link_dictionary['review_link'].append(review_link)\n",
        "    except:\n",
        "      continue # For movies with no written reviews\n",
        "\n",
        "review_url_df=pd.DataFrame(data=final_link_dictionary)\n",
        "review_url_df.to_csv('review_urls.csv')"
      ],
      "metadata": {
        "id": "OpTXD_8FuEV1"
      },
      "execution_count": null,
      "outputs": []
    },
    {
      "cell_type": "code",
      "source": [
        "link_df=pd.review_url_df\n",
        "link_df"
      ],
      "metadata": {
        "colab": {
          "base_uri": "https://localhost:8080/",
          "height": 423
        },
        "id": "Y2YUK809XgIR",
        "outputId": "8ff6c9ac-d41f-4639-ef9f-c3794d011b8e"
      },
      "execution_count": null,
      "outputs": [
        {
          "output_type": "execute_result",
          "data": {
            "text/plain": [
              "                                title  \\\n",
              "0                       Tour de Force   \n",
              "1                      Apocalypse Man   \n",
              "2               Welcome to the Rileys   \n",
              "3                              Drones   \n",
              "4    Britain's Really Disgusting Food   \n",
              "..                                ...   \n",
              "409                    Different Drum   \n",
              "410                Bigfoot Chronicles   \n",
              "411                    Unlisted Owner   \n",
              "412          Not Another Sci-Fi Movie   \n",
              "413  The Man Who Ate Himself to Death   \n",
              "\n",
              "                                                  link             year  \\\n",
              "0    https://www.imdb.com/title/tt1242787/?ref_=adv...           (2010)   \n",
              "1    https://www.imdb.com/title/tt1663972/?ref_=adv...  (2010 TV Movie)   \n",
              "2    https://www.imdb.com/title/tt1183923/?ref_=adv...           (2010)   \n",
              "3    https://www.imdb.com/title/tt1232775/?ref_=adv...           (2010)   \n",
              "4    https://www.imdb.com/title/tt1734143/?ref_=adv...  (2010 TV Movie)   \n",
              "..                                                 ...              ...   \n",
              "409  https://www.imdb.com/title/tt3097128/?ref_=adv...           (2013)   \n",
              "410  https://www.imdb.com/title/tt3158728/?ref_=adv...           (2013)   \n",
              "411  https://www.imdb.com/title/tt3522198/?ref_=adv...           (2013)   \n",
              "412  https://www.imdb.com/title/tt4796190/?ref_=adv...           (2013)   \n",
              "413  https://www.imdb.com/title/tt6950178/?ref_=adv...  (2013 TV Movie)   \n",
              "\n",
              "                                           review_link  \n",
              "0    https://www.imdb.com/title/tt1242787/reviews/?...  \n",
              "1    https://www.imdb.com/title/tt1663972/reviews/?...  \n",
              "2    https://www.imdb.com/title/tt1183923/reviews/?...  \n",
              "3    https://www.imdb.com/title/tt1232775/reviews/?...  \n",
              "4    https://www.imdb.com/title/tt1734143/reviews/?...  \n",
              "..                                                 ...  \n",
              "409  https://www.imdb.com/title/tt3097128/reviews/?...  \n",
              "410  https://www.imdb.com/title/tt3158728/reviews/?...  \n",
              "411  https://www.imdb.com/title/tt3522198/reviews/?...  \n",
              "412  https://www.imdb.com/title/tt4796190/reviews/?...  \n",
              "413  https://www.imdb.com/title/tt6950178/reviews/?...  \n",
              "\n",
              "[414 rows x 4 columns]"
            ],
            "text/html": [
              "\n",
              "  <div id=\"df-7b0e6c91-89ea-42ea-a067-bf1f5667fda4\">\n",
              "    <div class=\"colab-df-container\">\n",
              "      <div>\n",
              "<style scoped>\n",
              "    .dataframe tbody tr th:only-of-type {\n",
              "        vertical-align: middle;\n",
              "    }\n",
              "\n",
              "    .dataframe tbody tr th {\n",
              "        vertical-align: top;\n",
              "    }\n",
              "\n",
              "    .dataframe thead th {\n",
              "        text-align: right;\n",
              "    }\n",
              "</style>\n",
              "<table border=\"1\" class=\"dataframe\">\n",
              "  <thead>\n",
              "    <tr style=\"text-align: right;\">\n",
              "      <th></th>\n",
              "      <th>title</th>\n",
              "      <th>link</th>\n",
              "      <th>year</th>\n",
              "      <th>review_link</th>\n",
              "    </tr>\n",
              "  </thead>\n",
              "  <tbody>\n",
              "    <tr>\n",
              "      <th>0</th>\n",
              "      <td>Tour de Force</td>\n",
              "      <td>https://www.imdb.com/title/tt1242787/?ref_=adv...</td>\n",
              "      <td>(2010)</td>\n",
              "      <td>https://www.imdb.com/title/tt1242787/reviews/?...</td>\n",
              "    </tr>\n",
              "    <tr>\n",
              "      <th>1</th>\n",
              "      <td>Apocalypse Man</td>\n",
              "      <td>https://www.imdb.com/title/tt1663972/?ref_=adv...</td>\n",
              "      <td>(2010 TV Movie)</td>\n",
              "      <td>https://www.imdb.com/title/tt1663972/reviews/?...</td>\n",
              "    </tr>\n",
              "    <tr>\n",
              "      <th>2</th>\n",
              "      <td>Welcome to the Rileys</td>\n",
              "      <td>https://www.imdb.com/title/tt1183923/?ref_=adv...</td>\n",
              "      <td>(2010)</td>\n",
              "      <td>https://www.imdb.com/title/tt1183923/reviews/?...</td>\n",
              "    </tr>\n",
              "    <tr>\n",
              "      <th>3</th>\n",
              "      <td>Drones</td>\n",
              "      <td>https://www.imdb.com/title/tt1232775/?ref_=adv...</td>\n",
              "      <td>(2010)</td>\n",
              "      <td>https://www.imdb.com/title/tt1232775/reviews/?...</td>\n",
              "    </tr>\n",
              "    <tr>\n",
              "      <th>4</th>\n",
              "      <td>Britain's Really Disgusting Food</td>\n",
              "      <td>https://www.imdb.com/title/tt1734143/?ref_=adv...</td>\n",
              "      <td>(2010 TV Movie)</td>\n",
              "      <td>https://www.imdb.com/title/tt1734143/reviews/?...</td>\n",
              "    </tr>\n",
              "    <tr>\n",
              "      <th>...</th>\n",
              "      <td>...</td>\n",
              "      <td>...</td>\n",
              "      <td>...</td>\n",
              "      <td>...</td>\n",
              "    </tr>\n",
              "    <tr>\n",
              "      <th>409</th>\n",
              "      <td>Different Drum</td>\n",
              "      <td>https://www.imdb.com/title/tt3097128/?ref_=adv...</td>\n",
              "      <td>(2013)</td>\n",
              "      <td>https://www.imdb.com/title/tt3097128/reviews/?...</td>\n",
              "    </tr>\n",
              "    <tr>\n",
              "      <th>410</th>\n",
              "      <td>Bigfoot Chronicles</td>\n",
              "      <td>https://www.imdb.com/title/tt3158728/?ref_=adv...</td>\n",
              "      <td>(2013)</td>\n",
              "      <td>https://www.imdb.com/title/tt3158728/reviews/?...</td>\n",
              "    </tr>\n",
              "    <tr>\n",
              "      <th>411</th>\n",
              "      <td>Unlisted Owner</td>\n",
              "      <td>https://www.imdb.com/title/tt3522198/?ref_=adv...</td>\n",
              "      <td>(2013)</td>\n",
              "      <td>https://www.imdb.com/title/tt3522198/reviews/?...</td>\n",
              "    </tr>\n",
              "    <tr>\n",
              "      <th>412</th>\n",
              "      <td>Not Another Sci-Fi Movie</td>\n",
              "      <td>https://www.imdb.com/title/tt4796190/?ref_=adv...</td>\n",
              "      <td>(2013)</td>\n",
              "      <td>https://www.imdb.com/title/tt4796190/reviews/?...</td>\n",
              "    </tr>\n",
              "    <tr>\n",
              "      <th>413</th>\n",
              "      <td>The Man Who Ate Himself to Death</td>\n",
              "      <td>https://www.imdb.com/title/tt6950178/?ref_=adv...</td>\n",
              "      <td>(2013 TV Movie)</td>\n",
              "      <td>https://www.imdb.com/title/tt6950178/reviews/?...</td>\n",
              "    </tr>\n",
              "  </tbody>\n",
              "</table>\n",
              "<p>414 rows × 4 columns</p>\n",
              "</div>\n",
              "      <button class=\"colab-df-convert\" onclick=\"convertToInteractive('df-7b0e6c91-89ea-42ea-a067-bf1f5667fda4')\"\n",
              "              title=\"Convert this dataframe to an interactive table.\"\n",
              "              style=\"display:none;\">\n",
              "        \n",
              "  <svg xmlns=\"http://www.w3.org/2000/svg\" height=\"24px\"viewBox=\"0 0 24 24\"\n",
              "       width=\"24px\">\n",
              "    <path d=\"M0 0h24v24H0V0z\" fill=\"none\"/>\n",
              "    <path d=\"M18.56 5.44l.94 2.06.94-2.06 2.06-.94-2.06-.94-.94-2.06-.94 2.06-2.06.94zm-11 1L8.5 8.5l.94-2.06 2.06-.94-2.06-.94L8.5 2.5l-.94 2.06-2.06.94zm10 10l.94 2.06.94-2.06 2.06-.94-2.06-.94-.94-2.06-.94 2.06-2.06.94z\"/><path d=\"M17.41 7.96l-1.37-1.37c-.4-.4-.92-.59-1.43-.59-.52 0-1.04.2-1.43.59L10.3 9.45l-7.72 7.72c-.78.78-.78 2.05 0 2.83L4 21.41c.39.39.9.59 1.41.59.51 0 1.02-.2 1.41-.59l7.78-7.78 2.81-2.81c.8-.78.8-2.07 0-2.86zM5.41 20L4 18.59l7.72-7.72 1.47 1.35L5.41 20z\"/>\n",
              "  </svg>\n",
              "      </button>\n",
              "      \n",
              "  <style>\n",
              "    .colab-df-container {\n",
              "      display:flex;\n",
              "      flex-wrap:wrap;\n",
              "      gap: 12px;\n",
              "    }\n",
              "\n",
              "    .colab-df-convert {\n",
              "      background-color: #E8F0FE;\n",
              "      border: none;\n",
              "      border-radius: 50%;\n",
              "      cursor: pointer;\n",
              "      display: none;\n",
              "      fill: #1967D2;\n",
              "      height: 32px;\n",
              "      padding: 0 0 0 0;\n",
              "      width: 32px;\n",
              "    }\n",
              "\n",
              "    .colab-df-convert:hover {\n",
              "      background-color: #E2EBFA;\n",
              "      box-shadow: 0px 1px 2px rgba(60, 64, 67, 0.3), 0px 1px 3px 1px rgba(60, 64, 67, 0.15);\n",
              "      fill: #174EA6;\n",
              "    }\n",
              "\n",
              "    [theme=dark] .colab-df-convert {\n",
              "      background-color: #3B4455;\n",
              "      fill: #D2E3FC;\n",
              "    }\n",
              "\n",
              "    [theme=dark] .colab-df-convert:hover {\n",
              "      background-color: #434B5C;\n",
              "      box-shadow: 0px 1px 3px 1px rgba(0, 0, 0, 0.15);\n",
              "      filter: drop-shadow(0px 1px 2px rgba(0, 0, 0, 0.3));\n",
              "      fill: #FFFFFF;\n",
              "    }\n",
              "  </style>\n",
              "\n",
              "      <script>\n",
              "        const buttonEl =\n",
              "          document.querySelector('#df-7b0e6c91-89ea-42ea-a067-bf1f5667fda4 button.colab-df-convert');\n",
              "        buttonEl.style.display =\n",
              "          google.colab.kernel.accessAllowed ? 'block' : 'none';\n",
              "\n",
              "        async function convertToInteractive(key) {\n",
              "          const element = document.querySelector('#df-7b0e6c91-89ea-42ea-a067-bf1f5667fda4');\n",
              "          const dataTable =\n",
              "            await google.colab.kernel.invokeFunction('convertToInteractive',\n",
              "                                                     [key], {});\n",
              "          if (!dataTable) return;\n",
              "\n",
              "          const docLinkHtml = 'Like what you see? Visit the ' +\n",
              "            '<a target=\"_blank\" href=https://colab.research.google.com/notebooks/data_table.ipynb>data table notebook</a>'\n",
              "            + ' to learn more about interactive tables.';\n",
              "          element.innerHTML = '';\n",
              "          dataTable['output_type'] = 'display_data';\n",
              "          await google.colab.output.renderOutput(dataTable, element);\n",
              "          const docLink = document.createElement('div');\n",
              "          docLink.innerHTML = docLinkHtml;\n",
              "          element.appendChild(docLink);\n",
              "        }\n",
              "      </script>\n",
              "    </div>\n",
              "  </div>\n",
              "  "
            ]
          },
          "metadata": {},
          "execution_count": 17
        }
      ]
    },
    {
      "cell_type": "code",
      "source": [
        "driver = webdriver.Chrome('chromedriver',chrome_options=chrome_options)"
      ],
      "metadata": {
        "colab": {
          "base_uri": "https://localhost:8080/"
        },
        "id": "dbxvf-kTEzTw",
        "outputId": "6eb1541f-9d4a-41b7-97fd-4315823006be"
      },
      "execution_count": null,
      "outputs": [
        {
          "output_type": "stream",
          "name": "stderr",
          "text": [
            "/usr/local/lib/python3.7/dist-packages/ipykernel_launcher.py:1: DeprecationWarning: use options instead of chrome_options\n",
            "  \"\"\"Entry point for launching an IPython kernel.\n"
          ]
        }
      ]
    },
    {
      "cell_type": "code",
      "source": [
        "#Set list for each element:\n",
        "title = []\n",
        "content = []\n",
        "rating = []\n",
        "date = []\n",
        "user_name = []\n",
        "movie_title=[]\n",
        "# Step 2, we will grab the data from each user review page\n",
        "# Use Selenium to go to each user review page. each page is for a different film\n",
        "for i in range(len(link_df['review_link'])):\n",
        "  \n",
        "  driver.get(link_df['review_link'][i]) # Go to user review page\n",
        "  #driver.implicitly_wait(1) # tell the webdriver to wait for 1 seconds for the page to load to prevent blocked by anti spam software\n",
        "  \n",
        "  current_title=link_df['title'][i]\n",
        "\n",
        "  # LOAD MORE REVIEWS FOR A GIVEN FILM. once loaded, can save reviews\n",
        "  # Set up action to click on 'load more' button\n",
        "  # note that each page on imdb has 25 reviews\n",
        "  page = 1 #Set initial variable for while loop\n",
        "  #We want at least 1000 review, so get 50 at a safe number\n",
        "  while page<3:  \n",
        "      try:\n",
        "          #find the load more button on the webpage\n",
        "          load_more = driver.find_element_by_id('load-more-trigger')\n",
        "          #click on that button\n",
        "          load_more.click()\n",
        "          page+=1 #move on to next loadmore button\n",
        "      except:\n",
        "          #If couldnt find any button to click, stop\n",
        "          break\n",
        "  # After fully expand the page, we will grab data from whole website\n",
        "  review = driver.find_elements_by_class_name('review-container')\n",
        "\n",
        "  # save reviews for a given film\n",
        "  for n in range(0,75):\n",
        "      try:\n",
        "          #Some reviewers only give review text or rating without the other, \n",
        "          #so we use try/except here to make sure each block of content must has all the element before append them to the list\n",
        "\n",
        "          #Check if each review has all the elements\n",
        "          ftitle = review[n].find_element_by_class_name('title').text\n",
        "          #For the review content, some of them are hidden as spoiler, \n",
        "          #so we use the attribute 'textContent' here after extracting the 'content' tag\n",
        "          fcontent = review[n].find_element_by_class_name('content').get_attribute(\"textContent\").strip()\n",
        "          frating = review[n].find_element_by_class_name('rating-other-user-rating').text\n",
        "          fdate = review[n].find_element_by_class_name('review-date').text\n",
        "          fname = review[n].find_element_by_class_name('display-name-link').text\n",
        "\n",
        "\n",
        "          #Then add them to the respective list\n",
        "          title.append(ftitle)\n",
        "          content.append(fcontent)\n",
        "          rating.append(frating.split('/')[0])\n",
        "          date.append(fdate)\n",
        "          user_name.append(fname)\n",
        "          movie_title.append(current_title)\n",
        "      except:\n",
        "          continue\n",
        "\n",
        "#Build data dictionary for dataframe\n",
        "data = {'User_name': user_name, \n",
        "    'Review title': title, \n",
        "    'Review Rating': rating,\n",
        "    'Review date' : date,\n",
        "    'Review_body' : content,\n",
        "    'Movie title': movie_title\n",
        "    }\n",
        "#Build dataframe for each movie to export\n",
        "review = pd.DataFrame(data = data)\n",
        "#movie = top50['Movie_name'][i] #grab the movie name from the top50 list    \n",
        "#review['Movie_name'] = movie #create new column with the same movie name column    \n",
        "#review.to_csv(f'data/{folder_name}/{i+1}.csv') #store them into individual file for each movies, so we can combine or check them later"
      ],
      "metadata": {
        "id": "pMBv9IhQYpk_"
      },
      "execution_count": null,
      "outputs": []
    },
    {
      "cell_type": "code",
      "source": [
        "review.to_csv(f'review_data.csv')"
      ],
      "metadata": {
        "id": "NYsV1DDxxHMW"
      },
      "execution_count": null,
      "outputs": []
    },
    {
      "cell_type": "code",
      "source": [
        "sum=0\n",
        "for i in range(len(review['Review Rating'])):\n",
        "  sum+=int(review['Review Rating'][i].split('/')[0])\n",
        "average_score=sum/len(review['Review Rating'])\n",
        "print(average_score)"
      ],
      "metadata": {
        "colab": {
          "base_uri": "https://localhost:8080/"
        },
        "id": "655PJ-k3cy7A",
        "outputId": "fb56d223-141d-4b3c-cf0a-01a359f36779"
      },
      "execution_count": null,
      "outputs": [
        {
          "output_type": "stream",
          "name": "stdout",
          "text": [
            "6.246926497515041\n"
          ]
        }
      ]
    },
    {
      "cell_type": "code",
      "source": [
        "review['Review_body'][83]"
      ],
      "metadata": {
        "colab": {
          "base_uri": "https://localhost:8080/",
          "height": 142
        },
        "id": "W_oM2RY5hPBp",
        "outputId": "26f8f2d3-6fa2-4995-e5da-7b74b9ac5391"
      },
      "execution_count": null,
      "outputs": [
        {
          "output_type": "execute_result",
          "data": {
            "text/plain": [
              "\"7 October 2016. Yes, this movie is predictable, the storyline nothing special that hasn't already been done before. Yet, the music is really sharp, crisp, and engrossingly fun and hip. The performances are subtly different and more natural and easy-going without overly drama. This Disney Version of the famous pop star accidentally meets unknown, plain girl is done in an appealing and straightforward, honest way that doesn't depend on anything more than a good music track, sung well, and performances and chemistry which are entertaining and smartly done. Other fun movies include I'll Be There (2003), A Royal Night Out (2015), Roman Holiday (1953), Music and Lyrics (2007), Pride and Prejudice (2005), The Artist (2011), The Devil Wears Prada (2006), Good Morning Call (2016),\\n                \\n                    1 out of 1 found this helpful.\\n                        \\n                            Was this review helpful?  Sign in to vote.\\n                        \\n                        \\n                    Permalink\""
            ],
            "application/vnd.google.colaboratory.intrinsic+json": {
              "type": "string"
            }
          },
          "metadata": {},
          "execution_count": 36
        }
      ]
    }
  ]
}