{
  "nbformat": 4,
  "nbformat_minor": 0,
  "metadata": {
    "colab": {
      "name": "web_scraper.ipynb",
      "provenance": [],
      "authorship_tag": "ABX9TyMisd1Jj0i/15I+blcNiFFR",
      "include_colab_link": true
    },
    "kernelspec": {
      "name": "python3",
      "display_name": "Python 3"
    },
    "language_info": {
      "name": "python"
    }
  },
  "cells": [
    {
      "cell_type": "markdown",
      "metadata": {
        "id": "view-in-github",
        "colab_type": "text"
      },
      "source": [
        "<a href=\"https://colab.research.google.com/github/shaikadish/imdbProject/blob/main/web_scraper.ipynb\" target=\"_parent\"><img src=\"https://colab.research.google.com/assets/colab-badge.svg\" alt=\"Open In Colab\"/></a>"
      ]
    },
    {
      "cell_type": "code",
      "execution_count": 10,
      "metadata": {
        "colab": {
          "base_uri": "https://localhost:8080/"
        },
        "id": "EjK7_udlZyBX",
        "outputId": "508f18e1-59d9-429a-fe45-a7a2aa59c719"
      },
      "outputs": [
        {
          "output_type": "stream",
          "name": "stdout",
          "text": [
            "Mounted at /content/drive\n"
          ]
        }
      ],
      "source": [
        "from google.colab import drive\n",
        "drive.mount('/content/drive')"
      ]
    },
    {
      "cell_type": "code",
      "source": [
        "%cd drive/MyDrive/GitHub/IMDB_project/imdbProject"
      ],
      "metadata": {
        "colab": {
          "base_uri": "https://localhost:8080/"
        },
        "id": "nkvhZS88hDo9",
        "outputId": "e0b3c12a-5977-463c-bdb1-da57f61a9a8d"
      },
      "execution_count": 11,
      "outputs": [
        {
          "output_type": "stream",
          "name": "stdout",
          "text": [
            "/content/drive/MyDrive/GitHub/IMDB_project\n"
          ]
        }
      ]
    },
    {
      "cell_type": "code",
      "source": [
        "!pip install selenium\n",
        "!apt-get update \n",
        "!apt install chromium-chromedriver\n",
        "\n",
        "from selenium import webdriver\n",
        "chrome_options = webdriver.ChromeOptions()\n",
        "chrome_options.add_argument('--headless')\n",
        "chrome_options.add_argument('--no-sandbox')\n",
        "chrome_options.add_argument('--disable-dev-shm-usage')\n",
        "driver = webdriver.Chrome('chromedriver',chrome_options=chrome_options)"
      ],
      "metadata": {
        "colab": {
          "base_uri": "https://localhost:8080/"
        },
        "id": "AR2TXAN0nvGL",
        "outputId": "8b8a1818-eb29-4698-a01f-717781443efd"
      },
      "execution_count": 2,
      "outputs": [
        {
          "output_type": "stream",
          "name": "stdout",
          "text": [
            "Collecting selenium\n",
            "  Downloading selenium-4.1.3-py3-none-any.whl (968 kB)\n",
            "\u001b[K     |████████████████████████████████| 968 kB 4.8 MB/s \n",
            "\u001b[?25hCollecting urllib3[secure,socks]~=1.26\n",
            "  Downloading urllib3-1.26.9-py2.py3-none-any.whl (138 kB)\n",
            "\u001b[K     |████████████████████████████████| 138 kB 24.1 MB/s \n",
            "\u001b[?25hCollecting trio-websocket~=0.9\n",
            "  Downloading trio_websocket-0.9.2-py3-none-any.whl (16 kB)\n",
            "Collecting trio~=0.17\n",
            "  Downloading trio-0.20.0-py3-none-any.whl (359 kB)\n",
            "\u001b[K     |████████████████████████████████| 359 kB 10.2 MB/s \n",
            "\u001b[?25hRequirement already satisfied: sortedcontainers in /usr/local/lib/python3.7/dist-packages (from trio~=0.17->selenium) (2.4.0)\n",
            "Requirement already satisfied: idna in /usr/local/lib/python3.7/dist-packages (from trio~=0.17->selenium) (2.10)\n",
            "Requirement already satisfied: attrs>=19.2.0 in /usr/local/lib/python3.7/dist-packages (from trio~=0.17->selenium) (21.4.0)\n",
            "Collecting async-generator>=1.9\n",
            "  Downloading async_generator-1.10-py3-none-any.whl (18 kB)\n",
            "Collecting outcome\n",
            "  Downloading outcome-1.1.0-py2.py3-none-any.whl (9.7 kB)\n",
            "Collecting sniffio\n",
            "  Downloading sniffio-1.2.0-py3-none-any.whl (10 kB)\n",
            "Collecting wsproto>=0.14\n",
            "  Downloading wsproto-1.1.0-py3-none-any.whl (24 kB)\n",
            "Requirement already satisfied: PySocks!=1.5.7,<2.0,>=1.5.6 in /usr/local/lib/python3.7/dist-packages (from urllib3[secure,socks]~=1.26->selenium) (1.7.1)\n",
            "Requirement already satisfied: certifi in /usr/local/lib/python3.7/dist-packages (from urllib3[secure,socks]~=1.26->selenium) (2021.10.8)\n",
            "Collecting pyOpenSSL>=0.14\n",
            "  Downloading pyOpenSSL-22.0.0-py2.py3-none-any.whl (55 kB)\n",
            "\u001b[K     |████████████████████████████████| 55 kB 2.2 MB/s \n",
            "\u001b[?25hCollecting cryptography>=1.3.4\n",
            "  Downloading cryptography-37.0.0-cp36-abi3-manylinux_2_24_x86_64.whl (4.0 MB)\n",
            "\u001b[K     |████████████████████████████████| 4.0 MB 22.9 MB/s \n",
            "\u001b[?25hRequirement already satisfied: cffi>=1.12 in /usr/local/lib/python3.7/dist-packages (from cryptography>=1.3.4->urllib3[secure,socks]~=1.26->selenium) (1.15.0)\n",
            "Requirement already satisfied: pycparser in /usr/local/lib/python3.7/dist-packages (from cffi>=1.12->cryptography>=1.3.4->urllib3[secure,socks]~=1.26->selenium) (2.21)\n",
            "Collecting h11<1,>=0.9.0\n",
            "  Downloading h11-0.13.0-py3-none-any.whl (58 kB)\n",
            "\u001b[K     |████████████████████████████████| 58 kB 5.7 MB/s \n",
            "\u001b[?25hRequirement already satisfied: typing-extensions in /usr/local/lib/python3.7/dist-packages (from h11<1,>=0.9.0->wsproto>=0.14->trio-websocket~=0.9->selenium) (4.2.0)\n",
            "Installing collected packages: sniffio, outcome, h11, cryptography, async-generator, wsproto, urllib3, trio, pyOpenSSL, trio-websocket, selenium\n",
            "  Attempting uninstall: urllib3\n",
            "    Found existing installation: urllib3 1.24.3\n",
            "    Uninstalling urllib3-1.24.3:\n",
            "      Successfully uninstalled urllib3-1.24.3\n",
            "\u001b[31mERROR: pip's dependency resolver does not currently take into account all the packages that are installed. This behaviour is the source of the following dependency conflicts.\n",
            "requests 2.23.0 requires urllib3!=1.25.0,!=1.25.1,<1.26,>=1.21.1, but you have urllib3 1.26.9 which is incompatible.\n",
            "datascience 0.10.6 requires folium==0.2.1, but you have folium 0.8.3 which is incompatible.\u001b[0m\n",
            "Successfully installed async-generator-1.10 cryptography-37.0.0 h11-0.13.0 outcome-1.1.0 pyOpenSSL-22.0.0 selenium-4.1.3 sniffio-1.2.0 trio-0.20.0 trio-websocket-0.9.2 urllib3-1.26.9 wsproto-1.1.0\n",
            "Get:1 http://security.ubuntu.com/ubuntu bionic-security InRelease [88.7 kB]\n",
            "Get:2 https://cloud.r-project.org/bin/linux/ubuntu bionic-cran40/ InRelease [3,626 B]\n",
            "Ign:3 https://developer.download.nvidia.com/compute/cuda/repos/ubuntu1804/x86_64  InRelease\n",
            "Ign:4 https://developer.download.nvidia.com/compute/machine-learning/repos/ubuntu1804/x86_64  InRelease\n",
            "Hit:5 http://ppa.launchpad.net/c2d4u.team/c2d4u4.0+/ubuntu bionic InRelease\n",
            "Hit:6 https://developer.download.nvidia.com/compute/cuda/repos/ubuntu1804/x86_64  Release\n",
            "Hit:7 https://developer.download.nvidia.com/compute/machine-learning/repos/ubuntu1804/x86_64  Release\n",
            "Hit:8 http://archive.ubuntu.com/ubuntu bionic InRelease\n",
            "Get:9 http://archive.ubuntu.com/ubuntu bionic-updates InRelease [88.7 kB]\n",
            "Hit:10 http://ppa.launchpad.net/cran/libgit2/ubuntu bionic InRelease\n",
            "Get:11 http://security.ubuntu.com/ubuntu bionic-security/restricted amd64 Packages [909 kB]\n",
            "Hit:12 http://ppa.launchpad.net/deadsnakes/ppa/ubuntu bionic InRelease\n",
            "Get:13 http://archive.ubuntu.com/ubuntu bionic-backports InRelease [74.6 kB]\n",
            "Get:14 http://security.ubuntu.com/ubuntu bionic-security/main amd64 Packages [2,732 kB]\n",
            "Hit:15 http://ppa.launchpad.net/graphics-drivers/ppa/ubuntu bionic InRelease\n",
            "Get:16 http://security.ubuntu.com/ubuntu bionic-security/universe amd64 Packages [1,496 kB]\n",
            "Get:19 http://archive.ubuntu.com/ubuntu bionic-updates/main amd64 Packages [3,167 kB]\n",
            "Get:20 http://archive.ubuntu.com/ubuntu bionic-updates/restricted amd64 Packages [942 kB]\n",
            "Get:21 http://archive.ubuntu.com/ubuntu bionic-updates/universe amd64 Packages [2,272 kB]\n",
            "Fetched 11.8 MB in 4s (3,354 kB/s)\n",
            "Reading package lists... Done\n",
            "Reading package lists... Done\n",
            "Building dependency tree       \n",
            "Reading state information... Done\n",
            "The following additional packages will be installed:\n",
            "  chromium-browser chromium-browser-l10n chromium-codecs-ffmpeg-extra\n",
            "Suggested packages:\n",
            "  webaccounts-chromium-extension unity-chromium-extension\n",
            "The following NEW packages will be installed:\n",
            "  chromium-browser chromium-browser-l10n chromium-chromedriver\n",
            "  chromium-codecs-ffmpeg-extra\n",
            "0 upgraded, 4 newly installed, 0 to remove and 47 not upgraded.\n",
            "Need to get 88.4 MB of archives.\n",
            "After this operation, 297 MB of additional disk space will be used.\n",
            "Get:1 http://archive.ubuntu.com/ubuntu bionic-updates/universe amd64 chromium-codecs-ffmpeg-extra amd64 100.0.4896.127-0ubuntu0.18.04.1 [1,142 kB]\n",
            "Get:2 http://archive.ubuntu.com/ubuntu bionic-updates/universe amd64 chromium-browser amd64 100.0.4896.127-0ubuntu0.18.04.1 [77.6 MB]\n",
            "Get:3 http://archive.ubuntu.com/ubuntu bionic-updates/universe amd64 chromium-browser-l10n all 100.0.4896.127-0ubuntu0.18.04.1 [4,496 kB]\n",
            "Get:4 http://archive.ubuntu.com/ubuntu bionic-updates/universe amd64 chromium-chromedriver amd64 100.0.4896.127-0ubuntu0.18.04.1 [5,190 kB]\n",
            "Fetched 88.4 MB in 4s (22.1 MB/s)\n",
            "Selecting previously unselected package chromium-codecs-ffmpeg-extra.\n",
            "(Reading database ... 155514 files and directories currently installed.)\n",
            "Preparing to unpack .../chromium-codecs-ffmpeg-extra_100.0.4896.127-0ubuntu0.18.04.1_amd64.deb ...\n",
            "Unpacking chromium-codecs-ffmpeg-extra (100.0.4896.127-0ubuntu0.18.04.1) ...\n",
            "Selecting previously unselected package chromium-browser.\n",
            "Preparing to unpack .../chromium-browser_100.0.4896.127-0ubuntu0.18.04.1_amd64.deb ...\n",
            "Unpacking chromium-browser (100.0.4896.127-0ubuntu0.18.04.1) ...\n",
            "Selecting previously unselected package chromium-browser-l10n.\n",
            "Preparing to unpack .../chromium-browser-l10n_100.0.4896.127-0ubuntu0.18.04.1_all.deb ...\n",
            "Unpacking chromium-browser-l10n (100.0.4896.127-0ubuntu0.18.04.1) ...\n",
            "Selecting previously unselected package chromium-chromedriver.\n",
            "Preparing to unpack .../chromium-chromedriver_100.0.4896.127-0ubuntu0.18.04.1_amd64.deb ...\n",
            "Unpacking chromium-chromedriver (100.0.4896.127-0ubuntu0.18.04.1) ...\n",
            "Setting up chromium-codecs-ffmpeg-extra (100.0.4896.127-0ubuntu0.18.04.1) ...\n",
            "Setting up chromium-browser (100.0.4896.127-0ubuntu0.18.04.1) ...\n",
            "update-alternatives: using /usr/bin/chromium-browser to provide /usr/bin/x-www-browser (x-www-browser) in auto mode\n",
            "update-alternatives: using /usr/bin/chromium-browser to provide /usr/bin/gnome-www-browser (gnome-www-browser) in auto mode\n",
            "Setting up chromium-chromedriver (100.0.4896.127-0ubuntu0.18.04.1) ...\n",
            "Setting up chromium-browser-l10n (100.0.4896.127-0ubuntu0.18.04.1) ...\n",
            "Processing triggers for man-db (2.8.3-2ubuntu0.1) ...\n",
            "Processing triggers for hicolor-icon-theme (0.17-2) ...\n",
            "Processing triggers for mime-support (3.60ubuntu1) ...\n",
            "Processing triggers for libc-bin (2.27-3ubuntu1.3) ...\n",
            "/sbin/ldconfig.real: /usr/local/lib/python3.7/dist-packages/ideep4py/lib/libmkldnn.so.0 is not a symbolic link\n",
            "\n"
          ]
        },
        {
          "output_type": "stream",
          "name": "stderr",
          "text": [
            "/usr/local/lib/python3.7/dist-packages/ipykernel_launcher.py:10: DeprecationWarning: use options instead of chrome_options\n",
            "  # Remove the CWD from sys.path while we load stuff.\n"
          ]
        }
      ]
    },
    {
      "cell_type": "code",
      "source": [
        "!pip install beautifulsoup4"
      ],
      "metadata": {
        "colab": {
          "base_uri": "https://localhost:8080/"
        },
        "id": "kl14BD9yo_b5",
        "outputId": "702a5853-3ee2-4e91-e860-f2f7f0e887b2"
      },
      "execution_count": 3,
      "outputs": [
        {
          "output_type": "stream",
          "name": "stdout",
          "text": [
            "Requirement already satisfied: beautifulsoup4 in /usr/local/lib/python3.7/dist-packages (4.6.3)\n"
          ]
        }
      ]
    },
    {
      "cell_type": "code",
      "source": [
        "import selenium\n",
        "#webdriver is our tool to interact with the webpage\n",
        "from selenium import webdriver \n",
        "import requests #needed to load the page for BS4\n",
        "from bs4 import BeautifulSoup\n",
        "import pandas as pd #Using panda to create our dataframe"
      ],
      "metadata": {
        "colab": {
          "base_uri": "https://localhost:8080/"
        },
        "id": "GyN5wMyUpMKN",
        "outputId": "2412431a-49ed-4992-899a-9bd5054c5b67"
      },
      "execution_count": 4,
      "outputs": [
        {
          "output_type": "stream",
          "name": "stderr",
          "text": [
            "/usr/local/lib/python3.7/dist-packages/requests/__init__.py:91: RequestsDependencyWarning: urllib3 (1.26.9) or chardet (3.0.4) doesn't match a supported version!\n",
            "  RequestsDependencyWarning)\n"
          ]
        }
      ]
    },
    {
      "cell_type": "code",
      "source": [
        "driver = webdriver.Chrome('chromedriver',chrome_options=chrome_options)"
      ],
      "metadata": {
        "colab": {
          "base_uri": "https://localhost:8080/"
        },
        "id": "VnnoIS6AsiPw",
        "outputId": "ff97f27f-8c3a-4582-b4e3-0b97c189422d"
      },
      "execution_count": 5,
      "outputs": [
        {
          "output_type": "stream",
          "name": "stderr",
          "text": [
            "/usr/local/lib/python3.7/dist-packages/ipykernel_launcher.py:1: DeprecationWarning: use options instead of chrome_options\n",
            "  \"\"\"Entry point for launching an IPython kernel.\n"
          ]
        }
      ]
    },
    {
      "cell_type": "code",
      "source": [
        "#Set initial empty list for each element:\n",
        "title = []\n",
        "link = []\n",
        "year = []\n",
        "initial_link_dictionary={'title':[],'link':[],'year':[]}\n",
        "\n",
        "for review_idx in range(0,16):\n",
        "  #Set the url link and load the webpage\n",
        "  # Feature Film/TV Movie, Released between 2010-01-01 and 2022-01-01, English, Including Adult Titles (Sorted by Year Ascending)\n",
        "  url = f\"https://www.imdb.com/search/title/?title_type=feature,tv_movie&release_date=2010-01-01,2022-01-01&languages=en&adult=include&sort=release_date,asc&start={review_idx*5000+1}&ref_=adv_nxt\"\n",
        "  driver.get(url) # THIS DOES NOT WORK, NEED TO GO TO NEXT PAGE A DIFFERENT WAY. URL METHOD DOEESNT WORK AFTER 10,000\n",
        "\n",
        "  #Grab the block of each individual movie\n",
        "  block = driver.find_elements_by_class_name('lister-item')\n",
        "  #Set up for loop to run through all 50 movies on page\n",
        "  for i in range(0,50):\n",
        "      \n",
        "      #Extracting title\n",
        "      ftitle = block[i].find_element_by_class_name('lister-item-header').text\n",
        "      #The extracted title has extra elements, so we will have to do some cleaning\n",
        "      \n",
        "      #Remove the order in front of the title\n",
        "      forder = block[i].find_element_by_class_name('lister-item-index').text\n",
        "      #Extract the year at the end\n",
        "      fyear = block[i].find_element_by_class_name('lister-item-year').text\n",
        "      #Drop the order and year and only keep the movie's name\n",
        "      ftitle=ftitle.replace(\" \"+fyear,\"\")\n",
        "      ftitle = ftitle.replace(forder+' ', '')\n",
        "      #Then extract the link with cleaned title\n",
        "      flink = block[i].find_element_by_link_text(ftitle).get_attribute('href')\n",
        "  #Add item to the respective lists\n",
        "      initial_link_dictionary['title'].append(ftitle)\n",
        "      initial_link_dictionary['year'].append(fyear)\n",
        "      initial_link_dictionary['link'].append(flink)"
      ],
      "metadata": {
        "colab": {
          "base_uri": "https://localhost:8080/"
        },
        "id": "uN5-ZInqpjCB",
        "outputId": "a072ba5d-805e-4ecb-859d-6adaa711d5d7"
      },
      "execution_count": 6,
      "outputs": [
        {
          "output_type": "stream",
          "name": "stderr",
          "text": [
            "/usr/local/lib/python3.7/dist-packages/ipykernel_launcher.py:14: DeprecationWarning: find_elements_by_class_name is deprecated. Please use find_elements(by=By.CLASS_NAME, value=name) instead\n",
            "  \n",
            "/usr/local/lib/python3.7/dist-packages/selenium/webdriver/remote/webelement.py:446: UserWarning: find_element_by_class_name is deprecated. Please use find_element(by=By.CLASS_NAME, value=name) instead\n",
            "  warnings.warn(\"find_element_by_class_name is deprecated. Please use find_element(by=By.CLASS_NAME, value=name) instead\")\n",
            "/usr/local/lib/python3.7/dist-packages/selenium/webdriver/remote/webelement.py:265: UserWarning: find_element_by_link_text is deprecated. Please use find_element(by=By.LINK_TEXT, value=link_text) instead\n",
            "  warnings.warn(\"find_element_by_link_text is deprecated. Please use find_element(by=By.LINK_TEXT, value=link_text) instead\")\n"
          ]
        }
      ]
    },
    {
      "cell_type": "code",
      "source": [
        "initial_link_dictionary\n",
        "review_idx*5000+1"
      ],
      "metadata": {
        "colab": {
          "base_uri": "https://localhost:8080/"
        },
        "id": "6-EXKTs353v0",
        "outputId": "df9fa159-b440-40e5-e627-13bb3224977a"
      },
      "execution_count": 8,
      "outputs": [
        {
          "output_type": "execute_result",
          "data": {
            "text/plain": [
              "75001"
            ]
          },
          "metadata": {},
          "execution_count": 8
        }
      ]
    },
    {
      "cell_type": "code",
      "source": [
        "#Set an empty list to store user review link\n",
        "final_link_dictionary={'title':[],'link':[],'year':[],'review_link':[]}\n",
        "for i,url in enumerate(initial_link_dictionary['link']):\n",
        "    try:\n",
        "      #setup user agent for BS4, except some rare case, it would be the same for most browser \n",
        "      user_agent = {'User-Agent': 'Requests'}\n",
        "      #Use request.get to load the whole page\n",
        "      response = requests.get(url, headers = user_agent)\n",
        "      #Parse the requests object to BS4 to transform it into html structure\n",
        "      soup = BeautifulSoup(response.text, 'html.parser')\n",
        "      #Find the link marked by the USER REVIEWS link text.\n",
        "      review_link=url.split('/')\n",
        "      review_link[-1]=soup.find('a', text = 'User reviews').get('href')\n",
        "      review_link='/'.join(review_link)\n",
        "      #Append the newly grabed link into its list\n",
        "      #user_review_links.append(review_link)\n",
        "      final_link_dictionary['title'].append(initial_link_dictionary['title'][i])\n",
        "      final_link_dictionary['link'].append(initial_link_dictionary['link'][i])\n",
        "      final_link_dictionary['year'].append(initial_link_dictionary['year'][i])\n",
        "      final_link_dictionary['review_link'].append(review_link)\n",
        "    except:\n",
        "      continue # For movies with no written reviews"
      ],
      "metadata": {
        "id": "OpTXD_8FuEV1"
      },
      "execution_count": null,
      "outputs": []
    },
    {
      "cell_type": "code",
      "source": [
        "final_link_dictionary['review_link']"
      ],
      "metadata": {
        "colab": {
          "base_uri": "https://localhost:8080/"
        },
        "id": "YQnenI86uXow",
        "outputId": "e649caac-f921-4622-ac1c-0421f1217a62"
      },
      "execution_count": 20,
      "outputs": [
        {
          "output_type": "execute_result",
          "data": {
            "text/plain": [
              "['https://www.imdb.com/title/tt1438466/reviews/?ref_=tt_ql_urv',\n",
              " 'https://www.imdb.com/title/tt1491043/reviews/?ref_=tt_ql_urv',\n",
              " 'https://www.imdb.com/title/tt1566355/reviews/?ref_=tt_ql_urv',\n",
              " 'https://www.imdb.com/title/tt1577882/reviews/?ref_=tt_ql_urv',\n",
              " 'https://www.imdb.com/title/tt1756731/reviews/?ref_=tt_ql_urv',\n",
              " 'https://www.imdb.com/title/tt1827527/reviews/?ref_=tt_ql_urv',\n",
              " 'https://www.imdb.com/title/tt1830553/reviews/?ref_=tt_ql_urv',\n",
              " 'https://www.imdb.com/title/tt1851002/reviews/?ref_=tt_ql_urv',\n",
              " 'https://www.imdb.com/title/tt1562295/reviews/?ref_=tt_ql_urv',\n",
              " 'https://www.imdb.com/title/tt1578708/reviews/?ref_=tt_ql_urv',\n",
              " 'https://www.imdb.com/title/tt1588157/reviews/?ref_=tt_ql_urv',\n",
              " 'https://www.imdb.com/title/tt1773538/reviews/?ref_=tt_ql_urv',\n",
              " 'https://www.imdb.com/title/tt1776808/reviews/?ref_=tt_ql_urv',\n",
              " 'https://www.imdb.com/title/tt1780982/reviews/?ref_=tt_ql_urv',\n",
              " 'https://www.imdb.com/title/tt1782415/reviews/?ref_=tt_ql_urv',\n",
              " 'https://www.imdb.com/title/tt1785309/reviews/?ref_=tt_ql_urv',\n",
              " 'https://www.imdb.com/title/tt1787064/reviews/?ref_=tt_ql_urv',\n",
              " 'https://www.imdb.com/title/tt1438466/reviews/?ref_=tt_ql_urv',\n",
              " 'https://www.imdb.com/title/tt1491043/reviews/?ref_=tt_ql_urv',\n",
              " 'https://www.imdb.com/title/tt1566355/reviews/?ref_=tt_ql_urv',\n",
              " 'https://www.imdb.com/title/tt1577882/reviews/?ref_=tt_ql_urv',\n",
              " 'https://www.imdb.com/title/tt1756731/reviews/?ref_=tt_ql_urv',\n",
              " 'https://www.imdb.com/title/tt1827527/reviews/?ref_=tt_ql_urv',\n",
              " 'https://www.imdb.com/title/tt1830553/reviews/?ref_=tt_ql_urv',\n",
              " 'https://www.imdb.com/title/tt1851002/reviews/?ref_=tt_ql_urv',\n",
              " 'https://www.imdb.com/title/tt1562295/reviews/?ref_=tt_ql_urv',\n",
              " 'https://www.imdb.com/title/tt1578708/reviews/?ref_=tt_ql_urv',\n",
              " 'https://www.imdb.com/title/tt1588157/reviews/?ref_=tt_ql_urv',\n",
              " 'https://www.imdb.com/title/tt1438466/reviews/?ref_=tt_ql_urv',\n",
              " 'https://www.imdb.com/title/tt1491043/reviews/?ref_=tt_ql_urv',\n",
              " 'https://www.imdb.com/title/tt1566355/reviews/?ref_=tt_ql_urv',\n",
              " 'https://www.imdb.com/title/tt1577882/reviews/?ref_=tt_ql_urv',\n",
              " 'https://www.imdb.com/title/tt1756731/reviews/?ref_=tt_ql_urv',\n",
              " 'https://www.imdb.com/title/tt1827527/reviews/?ref_=tt_ql_urv',\n",
              " 'https://www.imdb.com/title/tt1830553/reviews/?ref_=tt_ql_urv',\n",
              " 'https://www.imdb.com/title/tt1851002/reviews/?ref_=tt_ql_urv',\n",
              " 'https://www.imdb.com/title/tt1562295/reviews/?ref_=tt_ql_urv',\n",
              " 'https://www.imdb.com/title/tt1578708/reviews/?ref_=tt_ql_urv',\n",
              " 'https://www.imdb.com/title/tt1588157/reviews/?ref_=tt_ql_urv',\n",
              " 'https://www.imdb.com/title/tt1438466/reviews/?ref_=tt_ql_urv',\n",
              " 'https://www.imdb.com/title/tt1491043/reviews/?ref_=tt_ql_urv',\n",
              " 'https://www.imdb.com/title/tt1566355/reviews/?ref_=tt_ql_urv',\n",
              " 'https://www.imdb.com/title/tt1577882/reviews/?ref_=tt_ql_urv',\n",
              " 'https://www.imdb.com/title/tt1756731/reviews/?ref_=tt_ql_urv',\n",
              " 'https://www.imdb.com/title/tt1827527/reviews/?ref_=tt_ql_urv',\n",
              " 'https://www.imdb.com/title/tt1830553/reviews/?ref_=tt_ql_urv',\n",
              " 'https://www.imdb.com/title/tt1851002/reviews/?ref_=tt_ql_urv',\n",
              " 'https://www.imdb.com/title/tt1562295/reviews/?ref_=tt_ql_urv',\n",
              " 'https://www.imdb.com/title/tt1578708/reviews/?ref_=tt_ql_urv',\n",
              " 'https://www.imdb.com/title/tt1588157/reviews/?ref_=tt_ql_urv',\n",
              " 'https://www.imdb.com/title/tt1438466/reviews/?ref_=tt_ql_urv',\n",
              " 'https://www.imdb.com/title/tt1491043/reviews/?ref_=tt_ql_urv',\n",
              " 'https://www.imdb.com/title/tt1566355/reviews/?ref_=tt_ql_urv',\n",
              " 'https://www.imdb.com/title/tt1577882/reviews/?ref_=tt_ql_urv',\n",
              " 'https://www.imdb.com/title/tt1756731/reviews/?ref_=tt_ql_urv',\n",
              " 'https://www.imdb.com/title/tt1827527/reviews/?ref_=tt_ql_urv',\n",
              " 'https://www.imdb.com/title/tt1830553/reviews/?ref_=tt_ql_urv',\n",
              " 'https://www.imdb.com/title/tt1851002/reviews/?ref_=tt_ql_urv',\n",
              " 'https://www.imdb.com/title/tt1562295/reviews/?ref_=tt_ql_urv',\n",
              " 'https://www.imdb.com/title/tt1578708/reviews/?ref_=tt_ql_urv',\n",
              " 'https://www.imdb.com/title/tt1588157/reviews/?ref_=tt_ql_urv',\n",
              " 'https://www.imdb.com/title/tt1438466/reviews/?ref_=tt_ql_urv',\n",
              " 'https://www.imdb.com/title/tt1491043/reviews/?ref_=tt_ql_urv',\n",
              " 'https://www.imdb.com/title/tt1566355/reviews/?ref_=tt_ql_urv',\n",
              " 'https://www.imdb.com/title/tt1577882/reviews/?ref_=tt_ql_urv',\n",
              " 'https://www.imdb.com/title/tt1756731/reviews/?ref_=tt_ql_urv',\n",
              " 'https://www.imdb.com/title/tt1827527/reviews/?ref_=tt_ql_urv',\n",
              " 'https://www.imdb.com/title/tt1830553/reviews/?ref_=tt_ql_urv',\n",
              " 'https://www.imdb.com/title/tt1851002/reviews/?ref_=tt_ql_urv',\n",
              " 'https://www.imdb.com/title/tt1562295/reviews/?ref_=tt_ql_urv',\n",
              " 'https://www.imdb.com/title/tt1578708/reviews/?ref_=tt_ql_urv',\n",
              " 'https://www.imdb.com/title/tt1588157/reviews/?ref_=tt_ql_urv',\n",
              " 'https://www.imdb.com/title/tt1438466/reviews/?ref_=tt_ql_urv',\n",
              " 'https://www.imdb.com/title/tt1491043/reviews/?ref_=tt_ql_urv',\n",
              " 'https://www.imdb.com/title/tt1566355/reviews/?ref_=tt_ql_urv',\n",
              " 'https://www.imdb.com/title/tt1577882/reviews/?ref_=tt_ql_urv',\n",
              " 'https://www.imdb.com/title/tt1756731/reviews/?ref_=tt_ql_urv',\n",
              " 'https://www.imdb.com/title/tt1827527/reviews/?ref_=tt_ql_urv',\n",
              " 'https://www.imdb.com/title/tt1830553/reviews/?ref_=tt_ql_urv',\n",
              " 'https://www.imdb.com/title/tt1851002/reviews/?ref_=tt_ql_urv',\n",
              " 'https://www.imdb.com/title/tt1562295/reviews/?ref_=tt_ql_urv',\n",
              " 'https://www.imdb.com/title/tt1578708/reviews/?ref_=tt_ql_urv',\n",
              " 'https://www.imdb.com/title/tt1588157/reviews/?ref_=tt_ql_urv',\n",
              " 'https://www.imdb.com/title/tt1438466/reviews/?ref_=tt_ql_urv',\n",
              " 'https://www.imdb.com/title/tt1491043/reviews/?ref_=tt_ql_urv',\n",
              " 'https://www.imdb.com/title/tt1566355/reviews/?ref_=tt_ql_urv',\n",
              " 'https://www.imdb.com/title/tt1577882/reviews/?ref_=tt_ql_urv',\n",
              " 'https://www.imdb.com/title/tt1756731/reviews/?ref_=tt_ql_urv',\n",
              " 'https://www.imdb.com/title/tt1827527/reviews/?ref_=tt_ql_urv',\n",
              " 'https://www.imdb.com/title/tt1830553/reviews/?ref_=tt_ql_urv',\n",
              " 'https://www.imdb.com/title/tt1851002/reviews/?ref_=tt_ql_urv',\n",
              " 'https://www.imdb.com/title/tt1562295/reviews/?ref_=tt_ql_urv',\n",
              " 'https://www.imdb.com/title/tt1578708/reviews/?ref_=tt_ql_urv',\n",
              " 'https://www.imdb.com/title/tt1588157/reviews/?ref_=tt_ql_urv',\n",
              " 'https://www.imdb.com/title/tt1438466/reviews/?ref_=tt_ql_urv',\n",
              " 'https://www.imdb.com/title/tt1491043/reviews/?ref_=tt_ql_urv',\n",
              " 'https://www.imdb.com/title/tt1566355/reviews/?ref_=tt_ql_urv',\n",
              " 'https://www.imdb.com/title/tt1577882/reviews/?ref_=tt_ql_urv',\n",
              " 'https://www.imdb.com/title/tt1756731/reviews/?ref_=tt_ql_urv',\n",
              " 'https://www.imdb.com/title/tt1827527/reviews/?ref_=tt_ql_urv',\n",
              " 'https://www.imdb.com/title/tt1830553/reviews/?ref_=tt_ql_urv',\n",
              " 'https://www.imdb.com/title/tt1851002/reviews/?ref_=tt_ql_urv',\n",
              " 'https://www.imdb.com/title/tt1562295/reviews/?ref_=tt_ql_urv',\n",
              " 'https://www.imdb.com/title/tt1578708/reviews/?ref_=tt_ql_urv',\n",
              " 'https://www.imdb.com/title/tt1588157/reviews/?ref_=tt_ql_urv',\n",
              " 'https://www.imdb.com/title/tt1438466/reviews/?ref_=tt_ql_urv',\n",
              " 'https://www.imdb.com/title/tt1491043/reviews/?ref_=tt_ql_urv',\n",
              " 'https://www.imdb.com/title/tt1566355/reviews/?ref_=tt_ql_urv',\n",
              " 'https://www.imdb.com/title/tt1577882/reviews/?ref_=tt_ql_urv',\n",
              " 'https://www.imdb.com/title/tt1756731/reviews/?ref_=tt_ql_urv',\n",
              " 'https://www.imdb.com/title/tt1827527/reviews/?ref_=tt_ql_urv',\n",
              " 'https://www.imdb.com/title/tt1830553/reviews/?ref_=tt_ql_urv',\n",
              " 'https://www.imdb.com/title/tt1851002/reviews/?ref_=tt_ql_urv',\n",
              " 'https://www.imdb.com/title/tt1562295/reviews/?ref_=tt_ql_urv',\n",
              " 'https://www.imdb.com/title/tt1578708/reviews/?ref_=tt_ql_urv',\n",
              " 'https://www.imdb.com/title/tt1588157/reviews/?ref_=tt_ql_urv',\n",
              " 'https://www.imdb.com/title/tt1438466/reviews/?ref_=tt_ql_urv',\n",
              " 'https://www.imdb.com/title/tt1491043/reviews/?ref_=tt_ql_urv',\n",
              " 'https://www.imdb.com/title/tt1566355/reviews/?ref_=tt_ql_urv',\n",
              " 'https://www.imdb.com/title/tt1577882/reviews/?ref_=tt_ql_urv',\n",
              " 'https://www.imdb.com/title/tt1756731/reviews/?ref_=tt_ql_urv',\n",
              " 'https://www.imdb.com/title/tt1827527/reviews/?ref_=tt_ql_urv',\n",
              " 'https://www.imdb.com/title/tt1830553/reviews/?ref_=tt_ql_urv',\n",
              " 'https://www.imdb.com/title/tt1851002/reviews/?ref_=tt_ql_urv',\n",
              " 'https://www.imdb.com/title/tt1562295/reviews/?ref_=tt_ql_urv',\n",
              " 'https://www.imdb.com/title/tt1578708/reviews/?ref_=tt_ql_urv',\n",
              " 'https://www.imdb.com/title/tt1588157/reviews/?ref_=tt_ql_urv',\n",
              " 'https://www.imdb.com/title/tt1438466/reviews/?ref_=tt_ql_urv',\n",
              " 'https://www.imdb.com/title/tt1491043/reviews/?ref_=tt_ql_urv',\n",
              " 'https://www.imdb.com/title/tt1566355/reviews/?ref_=tt_ql_urv',\n",
              " 'https://www.imdb.com/title/tt1577882/reviews/?ref_=tt_ql_urv',\n",
              " 'https://www.imdb.com/title/tt1756731/reviews/?ref_=tt_ql_urv',\n",
              " 'https://www.imdb.com/title/tt1827527/reviews/?ref_=tt_ql_urv',\n",
              " 'https://www.imdb.com/title/tt1830553/reviews/?ref_=tt_ql_urv',\n",
              " 'https://www.imdb.com/title/tt1851002/reviews/?ref_=tt_ql_urv',\n",
              " 'https://www.imdb.com/title/tt1562295/reviews/?ref_=tt_ql_urv',\n",
              " 'https://www.imdb.com/title/tt1578708/reviews/?ref_=tt_ql_urv',\n",
              " 'https://www.imdb.com/title/tt1588157/reviews/?ref_=tt_ql_urv',\n",
              " 'https://www.imdb.com/title/tt1438466/reviews/?ref_=tt_ql_urv',\n",
              " 'https://www.imdb.com/title/tt1491043/reviews/?ref_=tt_ql_urv',\n",
              " 'https://www.imdb.com/title/tt1566355/reviews/?ref_=tt_ql_urv',\n",
              " 'https://www.imdb.com/title/tt1577882/reviews/?ref_=tt_ql_urv',\n",
              " 'https://www.imdb.com/title/tt1756731/reviews/?ref_=tt_ql_urv',\n",
              " 'https://www.imdb.com/title/tt1827527/reviews/?ref_=tt_ql_urv',\n",
              " 'https://www.imdb.com/title/tt1830553/reviews/?ref_=tt_ql_urv',\n",
              " 'https://www.imdb.com/title/tt1851002/reviews/?ref_=tt_ql_urv',\n",
              " 'https://www.imdb.com/title/tt1562295/reviews/?ref_=tt_ql_urv',\n",
              " 'https://www.imdb.com/title/tt1578708/reviews/?ref_=tt_ql_urv',\n",
              " 'https://www.imdb.com/title/tt1588157/reviews/?ref_=tt_ql_urv',\n",
              " 'https://www.imdb.com/title/tt1438466/reviews/?ref_=tt_ql_urv',\n",
              " 'https://www.imdb.com/title/tt1491043/reviews/?ref_=tt_ql_urv',\n",
              " 'https://www.imdb.com/title/tt1566355/reviews/?ref_=tt_ql_urv',\n",
              " 'https://www.imdb.com/title/tt1577882/reviews/?ref_=tt_ql_urv',\n",
              " 'https://www.imdb.com/title/tt1756731/reviews/?ref_=tt_ql_urv',\n",
              " 'https://www.imdb.com/title/tt1827527/reviews/?ref_=tt_ql_urv',\n",
              " 'https://www.imdb.com/title/tt1830553/reviews/?ref_=tt_ql_urv',\n",
              " 'https://www.imdb.com/title/tt1851002/reviews/?ref_=tt_ql_urv',\n",
              " 'https://www.imdb.com/title/tt1562295/reviews/?ref_=tt_ql_urv',\n",
              " 'https://www.imdb.com/title/tt1578708/reviews/?ref_=tt_ql_urv',\n",
              " 'https://www.imdb.com/title/tt1588157/reviews/?ref_=tt_ql_urv',\n",
              " 'https://www.imdb.com/title/tt1438466/reviews/?ref_=tt_ql_urv',\n",
              " 'https://www.imdb.com/title/tt1491043/reviews/?ref_=tt_ql_urv',\n",
              " 'https://www.imdb.com/title/tt1566355/reviews/?ref_=tt_ql_urv',\n",
              " 'https://www.imdb.com/title/tt1577882/reviews/?ref_=tt_ql_urv',\n",
              " 'https://www.imdb.com/title/tt1756731/reviews/?ref_=tt_ql_urv',\n",
              " 'https://www.imdb.com/title/tt1827527/reviews/?ref_=tt_ql_urv',\n",
              " 'https://www.imdb.com/title/tt1830553/reviews/?ref_=tt_ql_urv',\n",
              " 'https://www.imdb.com/title/tt1851002/reviews/?ref_=tt_ql_urv',\n",
              " 'https://www.imdb.com/title/tt1562295/reviews/?ref_=tt_ql_urv',\n",
              " 'https://www.imdb.com/title/tt1578708/reviews/?ref_=tt_ql_urv',\n",
              " 'https://www.imdb.com/title/tt1588157/reviews/?ref_=tt_ql_urv']"
            ]
          },
          "metadata": {},
          "execution_count": 20
        }
      ]
    },
    {
      "cell_type": "code",
      "source": [
        "initial_link_dictionary"
      ],
      "metadata": {
        "colab": {
          "base_uri": "https://localhost:8080/",
          "height": 168
        },
        "id": "UTHW497k5uR2",
        "outputId": "52851b68-bb33-433a-cbde-73badbc3b80a"
      },
      "execution_count": 1,
      "outputs": [
        {
          "output_type": "error",
          "ename": "NameError",
          "evalue": "ignored",
          "traceback": [
            "\u001b[0;31m---------------------------------------------------------------------------\u001b[0m",
            "\u001b[0;31mNameError\u001b[0m                                 Traceback (most recent call last)",
            "\u001b[0;32m<ipython-input-1-a8adaf971266>\u001b[0m in \u001b[0;36m<module>\u001b[0;34m()\u001b[0m\n\u001b[0;32m----> 1\u001b[0;31m \u001b[0minitial_link_dictionary\u001b[0m\u001b[0;34m\u001b[0m\u001b[0;34m\u001b[0m\u001b[0m\n\u001b[0m",
            "\u001b[0;31mNameError\u001b[0m: name 'initial_link_dictionary' is not defined"
          ]
        }
      ]
    },
    {
      "cell_type": "code",
      "source": [
        "link_df=pd.DataFrame(data=final_link_dictionary)\n",
        "#driver.quit() # tell selenium to close the webpage\n",
        "link_df"
      ],
      "metadata": {
        "id": "Y2YUK809XgIR"
      },
      "execution_count": null,
      "outputs": []
    },
    {
      "cell_type": "code",
      "source": [
        "link_df"
      ],
      "metadata": {
        "colab": {
          "base_uri": "https://localhost:8080/",
          "height": 168
        },
        "id": "wKFItMaB5I5y",
        "outputId": "2ff4c0f9-bcca-414d-b012-07b799d47078"
      },
      "execution_count": 1,
      "outputs": [
        {
          "output_type": "error",
          "ename": "NameError",
          "evalue": "ignored",
          "traceback": [
            "\u001b[0;31m---------------------------------------------------------------------------\u001b[0m",
            "\u001b[0;31mNameError\u001b[0m                                 Traceback (most recent call last)",
            "\u001b[0;32m<ipython-input-1-1c7e3d7a5286>\u001b[0m in \u001b[0;36m<module>\u001b[0;34m()\u001b[0m\n\u001b[0;32m----> 1\u001b[0;31m \u001b[0mlink_df\u001b[0m\u001b[0;34m\u001b[0m\u001b[0;34m\u001b[0m\u001b[0m\n\u001b[0m",
            "\u001b[0;31mNameError\u001b[0m: name 'link_df' is not defined"
          ]
        }
      ]
    },
    {
      "cell_type": "code",
      "source": [
        "driver = webdriver.Chrome('chromedriver',chrome_options=chrome_options)"
      ],
      "metadata": {
        "colab": {
          "base_uri": "https://localhost:8080/"
        },
        "id": "IEzD4L8hfI35",
        "outputId": "5afed9a2-9972-4f06-d888-c60f7e3e7c3a"
      },
      "execution_count": 117,
      "outputs": [
        {
          "output_type": "stream",
          "name": "stderr",
          "text": [
            "/usr/local/lib/python3.7/dist-packages/ipykernel_launcher.py:1: DeprecationWarning: use options instead of chrome_options\n",
            "  \"\"\"Entry point for launching an IPython kernel.\n"
          ]
        }
      ]
    },
    {
      "cell_type": "code",
      "source": [
        "#Set list for each element:\n",
        "title = []\n",
        "content = []\n",
        "rating = []\n",
        "date = []\n",
        "user_name = []\n",
        "movie_title=[]\n",
        "# Step 2, we will grab the data from each user review page\n",
        "# Use Selenium to go to each user review page. each page is for a different film\n",
        "for i in range(len(link_df['review_link'])):\n",
        "\n",
        "  driver.get(link_df['review_link'][i]) # Go to user review page\n",
        "  driver.implicitly_wait(1) # tell the webdriver to wait for 1 seconds for the page to load to prevent blocked by anti spam software\n",
        "  \n",
        "  current_title=link_df['title'][i]\n",
        "\n",
        "  # LOAD MORE REVIEWS FOR A GIVEN FILM. once loaded, can save reviews\n",
        "  # Set up action to click on 'load more' button\n",
        "  # note that each page on imdb has 25 reviews\n",
        "  page = 1 #Set initial variable for while loop\n",
        "  #We want at least 1000 review, so get 50 at a safe number\n",
        "  while page<3:  \n",
        "      try:\n",
        "          #find the load more button on the webpage\n",
        "          load_more = driver.find_element_by_id('load-more-trigger')\n",
        "          #click on that button\n",
        "          load_more.click()\n",
        "          page+=1 #move on to next loadmore button\n",
        "      except:\n",
        "          #If couldnt find any button to click, stop\n",
        "          break\n",
        "  # After fully expand the page, we will grab data from whole website\n",
        "  review = driver.find_elements_by_class_name('review-container')\n",
        "\n",
        "  # save reviews for a given film\n",
        "  for n in range(0,75):\n",
        "      try:\n",
        "          #Some reviewers only give review text or rating without the other, \n",
        "          #so we use try/except here to make sure each block of content must has all the element before append them to the list\n",
        "\n",
        "          #Check if each review has all the elements\n",
        "          ftitle = review[n].find_element_by_class_name('title').text\n",
        "          #For the review content, some of them are hidden as spoiler, \n",
        "          #so we use the attribute 'textContent' here after extracting the 'content' tag\n",
        "          fcontent = review[n].find_element_by_class_name('content').get_attribute(\"textContent\").strip()\n",
        "          frating = review[n].find_element_by_class_name('rating-other-user-rating').text\n",
        "          fdate = review[n].find_element_by_class_name('review-date').text\n",
        "          fname = review[n].find_element_by_class_name('display-name-link').text\n",
        "\n",
        "\n",
        "          #Then add them to the respective list\n",
        "          title.append(ftitle)\n",
        "          content.append(fcontent)\n",
        "          rating.append(frating)\n",
        "          date.append(fdate)\n",
        "          user_name.append(fname)\n",
        "          movie_title.append(current_title)\n",
        "      except:\n",
        "          continue\n",
        "\n",
        "#Build data dictionary for dataframe\n",
        "data = {'User_name': user_name, \n",
        "    'Review title': title, \n",
        "    'Review Rating': rating,\n",
        "    'Review date' : date,\n",
        "    'Review_body' : content,\n",
        "    'Movie title': movie_title\n",
        "    }\n",
        "#Build dataframe for each movie to export\n",
        "review = pd.DataFrame(data = data)\n",
        "#movie = top50['Movie_name'][i] #grab the movie name from the top50 list    \n",
        "#review['Movie_name'] = movie #create new column with the same movie name column    \n",
        "#review.to_csv(f'data/{folder_name}/{i+1}.csv') #store them into individual file for each movies, so we can combine or check them later"
      ],
      "metadata": {
        "id": "pMBv9IhQYpk_"
      },
      "execution_count": null,
      "outputs": []
    },
    {
      "cell_type": "code",
      "source": [
        "review.to_csv(f'review_data.csv')"
      ],
      "metadata": {
        "id": "NYsV1DDxxHMW"
      },
      "execution_count": null,
      "outputs": []
    },
    {
      "cell_type": "code",
      "source": [
        "sum=0\n",
        "for i in range(len(review['Review Rating'])):\n",
        "  sum+=int(review['Review Rating'][i].split('/')[0])\n",
        "average_score=sum/len(review['Review Rating'])\n",
        "print(average_score)"
      ],
      "metadata": {
        "colab": {
          "base_uri": "https://localhost:8080/"
        },
        "id": "655PJ-k3cy7A",
        "outputId": "c281800c-11e7-4ae2-d9e4-1c49a21ba5c5"
      },
      "execution_count": 160,
      "outputs": [
        {
          "output_type": "stream",
          "name": "stdout",
          "text": [
            "7.222222222222222\n"
          ]
        }
      ]
    },
    {
      "cell_type": "code",
      "source": [
        "review['Review Rating']"
      ],
      "metadata": {
        "colab": {
          "base_uri": "https://localhost:8080/"
        },
        "id": "W_oM2RY5hPBp",
        "outputId": "4483af47-0ce3-4f34-dbf7-4f8e1573354b"
      },
      "execution_count": 132,
      "outputs": [
        {
          "output_type": "execute_result",
          "data": {
            "text/plain": [
              "0       5/10\n",
              "1      10/10\n",
              "2       6/10\n",
              "3      10/10\n",
              "4       9/10\n",
              "       ...  \n",
              "447    10/10\n",
              "448    10/10\n",
              "449     9/10\n",
              "450    10/10\n",
              "451     9/10\n",
              "Name: Review Rating, Length: 452, dtype: object"
            ]
          },
          "metadata": {},
          "execution_count": 132
        }
      ]
    }
  ]
}