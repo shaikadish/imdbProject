{
  "cells": [
    {
      "cell_type": "markdown",
      "metadata": {
        "id": "view-in-github",
        "colab_type": "text"
      },
      "source": [
        "<a href=\"https://colab.research.google.com/github/shaikadish/imdbProject/blob/main/model_training_and_testing.ipynb\" target=\"_parent\"><img src=\"https://colab.research.google.com/assets/colab-badge.svg\" alt=\"Open In Colab\"/></a>"
      ]
    },
    {
      "cell_type": "markdown",
      "source": [
        "# The moment we have all been waiting for...\n",
        "\n",
        "Time to train and test our model!"
      ],
      "metadata": {
        "id": "vSWNypEyYvxz"
      }
    },
    {
      "cell_type": "markdown",
      "source": [
        "# Imports and setup"
      ],
      "metadata": {
        "id": "9eLgCUZgZBLU"
      }
    },
    {
      "cell_type": "code",
      "execution_count": null,
      "metadata": {
        "id": "9mUUcV7RDjs2"
      },
      "outputs": [],
      "source": [
        "# Mount to google drive\n",
        "from google.colab import drive\n",
        "drive.mount('/content/drive',force_remount=True)\n",
        "%cd drive/MyDrive/path/to/your/directory"
      ]
    },
    {
      "cell_type": "code",
      "execution_count": null,
      "metadata": {
        "id": "HnjHKoQK_wpA"
      },
      "outputs": [],
      "source": [
        "# Install and import libraries\n",
        "!pip install transformers\n",
        "\n",
        "from transformers import BertTokenizer, AutoModel\n",
        "import pandas as pd\n",
        "import torch\n",
        "import torch.nn as nn\n",
        "from torch.utils.data import TensorDataset, random_split, DataLoader\n",
        "import matplotlib.pyplot as plt\n",
        "import time\n",
        "import datetime\n",
        "from matplotlib.lines import Line2D\n",
        "import warnings\n",
        "import numpy as np"
      ]
    },
    {
      "cell_type": "code",
      "execution_count": null,
      "metadata": {
        "id": "bpX_HUIUCRTr"
      },
      "outputs": [],
      "source": [
        "# Load the BERT tokenizer. The tokenizer used here is discussed later\n",
        "print('Loading BERT tokenizer...')\n",
        "tokenizer = BertTokenizer.from_pretrained('fabriceyhc/bert-base-uncased-imdb', do_lower_case=True)"
      ]
    },
    {
      "cell_type": "code",
      "execution_count": null,
      "metadata": {
        "id": "i9cFzFfQDWtm"
      },
      "outputs": [],
      "source": [
        "# Load in the model input data and targets\n",
        "review_data=pd.read_csv('review_data_learning.csv')\n",
        "reviews=review_data['0'].to_list()\n",
        "ratings=review_data['1'].to_list()"
      ]
    },
    {
      "cell_type": "code",
      "source": [
        "# A helper function used during training\n",
        "def format_time(elapsed):\n",
        "    '''\n",
        "    Takes a time in seconds and returns a string hh:mm:ss\n",
        "    '''\n",
        "    # Round to the nearest second.\n",
        "    elapsed_rounded = int(round((elapsed)))\n",
        "    \n",
        "    # Format as hh:mm:ss\n",
        "    return str(datetime.timedelta(seconds=elapsed_rounded))"
      ],
      "metadata": {
        "id": "d2Tg9_lS1mM-"
      },
      "execution_count": null,
      "outputs": []
    },
    {
      "cell_type": "markdown",
      "source": [
        "# Preprocessing and data preparation\n",
        "\n",
        "We first must tokenize our text data appropriately for the BERT model we are using. Luckily, Hugging Face has us covered with its great tokenizer pipeline:"
      ],
      "metadata": {
        "id": "xVpOev2jsLYZ"
      }
    },
    {
      "cell_type": "code",
      "execution_count": null,
      "metadata": {
        "id": "Rxb1rMxIzng-"
      },
      "outputs": [],
      "source": [
        "# Lists containing BERT input data from the tokenizer\n",
        "tokenized_reviews = []\n",
        "attention_masks = []\n",
        "\n",
        "# Loop through each review and tokeize\n",
        "for review in reviews:\n",
        "\n",
        "    # Encode the review using BERT tokenizer\n",
        "    encoded_dict = tokenizer.encode_plus(\n",
        "                        review,                      \n",
        "                        truncation=True,\n",
        "                        add_special_tokens = True, \n",
        "                        max_length = 512,          \n",
        "                        pad_to_max_length = True,\n",
        "                        return_attention_mask = True)\n",
        "    \n",
        "    # Append tokenized sentence   \n",
        "    tokenized_reviews.append(encoded_dict['input_ids'])\n",
        "    \n",
        "    # Append the attention mask (padding locations within token set)\n",
        "    attention_masks.append(encoded_dict['attention_mask'])\n",
        "\n",
        "# Convert the lists into tensors\n",
        "tokenized_reviews = torch.tensor(tokenized_reviews)\n",
        "attention_masks = torch.tensor(attention_masks)\n",
        "\n",
        "# Convert targets list into tensor\n",
        "labels = torch.tensor(ratings)"
      ]
    },
    {
      "cell_type": "markdown",
      "source": [
        "Now we must create our training, validation and testing datasets:"
      ],
      "metadata": {
        "id": "5j9TZzR0dnnW"
      }
    },
    {
      "cell_type": "code",
      "execution_count": null,
      "metadata": {
        "id": "CyBvqQVL5_Xn"
      },
      "outputs": [],
      "source": [
        "# Generate a dataset using our model input data and targets \n",
        "dataset = TensorDataset(tokenized_reviews, attention_masks, labels)\n",
        "\n",
        "# Calculate the size of the data subsets (70-15-15 split for training, validation and testing sets)\n",
        "train_size = int(0.7 * len(dataset))+1\n",
        "val_size = int(0.5*(len(dataset) - train_size))\n",
        "test_size = int(0.5*(len(dataset) - train_size))\n",
        "\n",
        "# Generate subsets of the data using the above split\n",
        "train_dataset, val_dataset, test_dataset = random_split(dataset, [train_size, val_size,test_size])"
      ]
    },
    {
      "cell_type": "markdown",
      "source": [
        "And then create *PyTorch* dataloaders for training and testing:"
      ],
      "metadata": {
        "id": "Xcg2Jk4Hdx-H"
      }
    },
    {
      "cell_type": "code",
      "execution_count": null,
      "metadata": {
        "id": "AA6LOY3C8EIB"
      },
      "outputs": [],
      "source": [
        "# We will use a batch size of 16, as recommended by the creators of BERT\n",
        "batch_size = 16\n",
        "\n",
        "# Create training dataloader \n",
        "train_dataloader = DataLoader(\n",
        "            train_dataset, \n",
        "            shuffle=True,\n",
        "            batch_size = batch_size \n",
        "        )\n",
        "\n",
        "# Create validation dataloader\n",
        "validation_dataloader = DataLoader(\n",
        "            val_dataset, \n",
        "            batch_size = batch_size \n",
        "        )\n",
        "\n",
        "# Create testing dataloader\n",
        "test_dataloader = DataLoader(\n",
        "            test_dataset, \n",
        "            batch_size = batch_size \n",
        "        )"
      ]
    },
    {
      "cell_type": "markdown",
      "source": [
        "# Model design and transfer learning\n",
        "\n",
        "As mentioned, we are using BERT architecture for our model, due to it's excellent performance in sequence classification tasks. \n",
        "\n",
        "Because the popular IMDB dataset for sentiment analysis also makes use of IMDB review data, and because the model likely will makes use of similar features from the input data when classifying sentiment as when estimating a review score, it will be beneficial to perform transfer learning using a BERT model pretrained on this dataset, so that the model makes use of the useful features learnt during sentiment analysis training. The [pretrained model](https://huggingface.co/fabriceyhc/bert-base-uncased-imdb) we will use can be found on the Hugging Face model repository. We used a corresponding tokenizer when preprocessing our data. \n",
        "\n",
        "A problem I encountered when trying to use this pretrained model is that (at the time of writing) one can only use the `BertForSequenceClassification` class from Hugging Face for transfer learning if the new model and the old model have identical architectures. Because the old model was used for classification with two output neurons, and we are performing regression (using a single output neuron) I had to find a work around to use the pretrained model while still being able to modify the classification head. The solution I came up with was to use the `AutoModel` class, which loads the BERT model without a classification head. I then used *PyTorch* to create a classification head with one layer in the forward pass of the model. You can see this code bellow."
      ],
      "metadata": {
        "id": "DsxrWWXCep1m"
      }
    },
    {
      "cell_type": "code",
      "source": [
        "class RatingModel(nn.Module):\n",
        "    def __init__(self):\n",
        "        super(RatingModel, self).__init__()\n",
        "        \n",
        "        # Load pretrained BERT model\n",
        "        self.base_model = AutoModel.from_pretrained('fabriceyhc/bert-base-uncased-imdb')\n",
        "        # Include dropout layer in classification head\n",
        "        self.dropout = nn.Dropout(0.5)\n",
        "        # Add new output layer for classification\n",
        "        self.linear = nn.Linear(768, 1) \n",
        "        \n",
        "    def forward(self, tokenized_reviews, attn_mask):\n",
        "\n",
        "        # Pass the tokenized reviews through the BERT model\n",
        "        outputs = self.base_model(tokenized_reviews, attention_mask=attn_mask)\n",
        "        outputs = self.dropout(outputs[0])\n",
        "\n",
        "        # The slicing of the BERT model outputs (below) is to make use of the BERT output features \n",
        "        # from only the special [CLS] token for classification. This token is at index 0\n",
        "        outputs = self.linear(outputs[:,0,:])\n",
        "        \n",
        "        return outputs"
      ],
      "metadata": {
        "id": "ZqdciuZwdTwX"
      },
      "execution_count": null,
      "outputs": []
    },
    {
      "cell_type": "code",
      "source": [
        "# Create new model\n",
        "model = RatingModel()\n",
        "model.cuda()\n",
        "\n",
        "# Initialize loss function, optimizer and scheduler\n",
        "# Mean Square Error loss for regression task\n",
        "criterion = nn.MSELoss()\n",
        "optimizer = torch.optim.Adam(model.parameters(), lr=2e-5)\n",
        "scheduler = torch.optim.lr_scheduler.ExponentialLR(optimizer, gamma=0.9)"
      ],
      "metadata": {
        "id": "oYmchWlEkq80"
      },
      "execution_count": null,
      "outputs": []
    },
    {
      "cell_type": "markdown",
      "source": [
        "# Model training\n",
        "\n",
        "Model ✅, Data ✅, 2+ hours on stack overflow ✅. It must be time to train!"
      ],
      "metadata": {
        "id": "P0fu8CMgliKb"
      }
    },
    {
      "cell_type": "code",
      "execution_count": null,
      "metadata": {
        "id": "pgmbwLIXE4Yp"
      },
      "outputs": [],
      "source": [
        "# Saved statistics from training\n",
        "training_stats = []\n",
        "\n",
        "# Training start time, to time training process\n",
        "total_t0 = time.time()\n",
        "\n",
        "# Training for 4 epochs, as is recommended for transfer learning by the BERT creators\n",
        "num_epochs = 4\n",
        "\n",
        "# Loop for each epoch. Will also validate each epoch\n",
        "for epoch in range(num_epochs):\n",
        "    # ========================================\n",
        "    #               Training\n",
        "    # ========================================\n",
        "\n",
        "    print(\"\")\n",
        "    print(f'======== Epoch {epoch+1} / {4} ========')\n",
        "\n",
        "    # Epoch start time for timing epoch length\n",
        "    t0 = time.time()\n",
        "\n",
        "    # Zero total epoch loss\n",
        "    total_train_loss = 0\n",
        "\n",
        "    # Set model back to train mode after validation\n",
        "    model.train()\n",
        "\n",
        "    # Loop through batches of training data\n",
        "    for step, batch in enumerate(train_dataloader):\n",
        "\n",
        "      # Progress update every 40 batches\n",
        "      if step % 40 == 0 and not step == 0:\n",
        "\n",
        "        # Calculate elapsed time in minutes\n",
        "        elapsed = format_time(time.time()-t0)\n",
        "\n",
        "        # Print batch number, time elapsed, and training loss of epoch so far\n",
        "        print(f'  Batch {step}  of  {len(train_dataloader)}.    Elapsed: {elapsed}.    Training Loss: {total_train_loss/step}.')\n",
        "\n",
        "      # Zero gradients for batch\n",
        "      model.zero_grad()\n",
        "      optimizer.zero_grad()\n",
        "\n",
        "      # Load batch data\n",
        "      b_tokenized_reviews = batch[0].cuda()\n",
        "      b_input_mask = batch[1].cuda()\n",
        "      # Regression model trained on scaled targets between 0-1, so must divide label by 10\n",
        "      b_labels = batch[2].cuda()/10\n",
        "\n",
        "      # Predict ratings\n",
        "      preds=model(b_tokenized_reviews,b_input_mask)\n",
        "\n",
        "      # Calculate batch loss\n",
        "      loss = criterion(preds.squeeze().cuda(), b_labels)\n",
        "\n",
        "      # Update epoch loss\n",
        "      total_train_loss += loss.item()\n",
        "\n",
        "      # Delete batch data for memory\n",
        "      del b_tokenized_reviews,b_input_mask,b_labels\n",
        "\n",
        "      # Compute gradients\n",
        "      loss.float().backward()\n",
        "\n",
        "      # Clip the norm of the gradients to 1.0 for exploding gradient\n",
        "      torch.nn.utils.clip_grad_norm_(model.parameters(), 1.0)\n",
        "\n",
        "      # Update model weights\n",
        "      optimizer.step()\n",
        "\n",
        "    # Update learning rate every epoch\n",
        "    scheduler.step()\n",
        "\n",
        "    # Save current model weights\n",
        "    torch.save(model.state_dict(), f'imdb_{epoch}.pt')\n",
        "\n",
        "    # Calculate the average loss over all batches\n",
        "    avg_train_loss = total_train_loss / len(train_dataloader)\n",
        "\n",
        "    # Measure how long this epoch took\n",
        "    training_time = format_time(time.time() - t0)\n",
        "\n",
        "    print(\"\")\n",
        "    print(\"  Average training loss: {0:.2f}\".format(avg_train_loss))\n",
        "    print(\"  Training epoch took: {:}\".format(training_time))\n",
        "\n",
        "    # ========================================\n",
        "    #               Validation\n",
        "    # ========================================\n",
        "\n",
        "    print(\"\")\n",
        "    print(\"Running Validation...\")\n",
        "\n",
        "    # Start time of validation\n",
        "    t0 = time.time()\n",
        "\n",
        "    # Put model in evaluation mode\n",
        "    model.eval()\n",
        "\n",
        "    # Tracking evaluation loss\n",
        "    total_eval_loss = 0\n",
        "\n",
        "    # Loop through all evaluation data in batches\n",
        "    for step,batch in enumerate(validation_dataloader):\n",
        "\n",
        "        b_tokenized_reviews = batch[0].cuda()\n",
        "        b_input_mask = batch[1].cuda()\n",
        "        b_labels = batch[2].cuda()/10\n",
        "\n",
        "        # Don't compute gradients during evaluation\n",
        "        with torch.no_grad():\n",
        "            preds=model(b_tokenized_reviews,b_input_mask).cuda()\n",
        "\n",
        "        loss = criterion(preds.squeeze(), b_labels)\n",
        "\n",
        "        del b_tokenized_reviews,b_input_mask,b_labels\n",
        "\n",
        "        # Accumulate the validation loss\n",
        "        total_eval_loss += loss.item()\n",
        "        \n",
        "    # Calculate the average loss over all of the batches\n",
        "    avg_val_loss = total_eval_loss / len(validation_dataloader)\n",
        "\n",
        "    # Display the evaluation RMSE \n",
        "    print(\"  RMSE: {0:.2f}\".format(avg_val_loss**0.5))\n",
        "\n",
        "    # Measure how long the validation run took\n",
        "    validation_time = format_time(time.time() - t0)\n",
        "\n",
        "    print(\"  Validation Loss: {0:.2f}\".format(avg_val_loss))\n",
        "    print(\"  Validation took: {:}\".format(validation_time))\n",
        "\n",
        "    # Record all statistics from this epoch\n",
        "    training_stats.append(\n",
        "        {\n",
        "            'epoch': epoch + 1,\n",
        "            'Training Loss': avg_train_loss,\n",
        "            'Valid. Loss': avg_val_loss,\n",
        "            'Training Time': training_time,\n",
        "            'Validation Time': validation_time\n",
        "        }\n",
        "    )\n",
        "\n",
        "print(\"\")\n",
        "print(\"Training complete!\")\n",
        "print(\"Total training took {:} (h:mm:ss)\".format(format_time(time.time()-total_t0)))"
      ]
    },
    {
      "cell_type": "markdown",
      "source": [
        "# Model testing\n",
        "\n",
        "After around 7.5 hours using colabs pro, training has been complete. Let's see how well we did:"
      ],
      "metadata": {
        "id": "QnuiiSaexXmW"
      }
    },
    {
      "cell_type": "code",
      "source": [
        "# Lists of training and validation loss\n",
        "validation_loss=[]\n",
        "training_loss=[]\n",
        "\n",
        "for epoch in training_stats:\n",
        "  validation_loss.append(epoch['Valid. Loss'])\n",
        "  training_loss.append(epoch['Training Loss'])\n",
        "\n",
        "# Display Losses\n",
        "plt.plot(training_loss)\n",
        "plt.plot(validation_loss)\n",
        "plt.title('Model loss during training')\n",
        "plt.ylabel('MSE Loss')\n",
        "plt.xlabel('epoch')\n",
        "plt.xticks(ticks=[1,2,3,4])\n",
        "plt.xlim((0.9,4.1))\n",
        "plt.ylim((0,0.05))\n",
        "plt.legend(['train', 'val'], loc='upper right')\n",
        "plt.show()"
      ],
      "metadata": {
        "colab": {
          "base_uri": "https://localhost:8080/",
          "height": 295
        },
        "id": "Ejbq2MOYpioQ",
        "outputId": "a6fd11e9-d4b3-4222-9cbd-abe457b1462f"
      },
      "execution_count": null,
      "outputs": [
        {
          "output_type": "display_data",
          "data": {
            "text/plain": [
              "<Figure size 432x288 with 1 Axes>"
            ],
            "image/png": "[encoded data removed]"
          },
          "metadata": {
            "needs_background": "light"
          }
        }
      ]
    },
    {
      "cell_type": "markdown",
      "source": [
        "The model seems to perform relatively well during training! Although there is a small amount of overfitting to the training data after the second epoch, the model still performs relatively well on the validation set, with a **best validation loss of 0.019 (MSE)** being achieved by the model after the second epoch. This translates to an **average error in score of 1.38 (RMSE)** when scaling the loss from 1-10. \n",
        "\n",
        "Lets do some more testing using our test dataset. First we need to run the model on the dataset:"
      ],
      "metadata": {
        "id": "XvX_qHrfuBMz"
      }
    },
    {
      "cell_type": "code",
      "source": [
        "# ========================================\n",
        "#               Testing\n",
        "# ========================================\n",
        "\n",
        "print(\"\")\n",
        "print(\"Running Testing...\")\n",
        "\n",
        "# Start time of testing\n",
        "t0 = time.time()\n",
        "\n",
        "model.eval()\n",
        "\n",
        "total_test_loss = 0\n",
        "\n",
        "# Testing dictionary, to group predictions based on their target values\n",
        "testing_stats={'0.1':[],'0.2':[],'0.3':[],'0.4':[],'0.5':[],'0.6':[],'0.7':[],'0.8':[],'0.9':[],'1.0':[]}\n",
        "\n",
        "# Loop through all test data\n",
        "for step,batch in enumerate(test_dataloader):\n",
        "\n",
        "    b_tokenized_reviews = batch[0].cuda()\n",
        "    b_input_mask = batch[1].cuda()\n",
        "    b_labels = batch[2].cuda()/10\n",
        "\n",
        "    with torch.no_grad():\n",
        "        preds=model(b_tokenized_reviews,b_input_mask).cuda()\n",
        "\n",
        "    # Update testing dictionary with new batch of predictions\n",
        "    for pred,label in zip(preds,b_labels):\n",
        "      testing_stats[str(round(label.item(),1))].append(pred)\n",
        "\n",
        "    loss = criterion(preds.squeeze(), b_labels)\n",
        "\n",
        "    del b_tokenized_reviews,b_input_mask,b_labels\n",
        "\n",
        "    total_test_loss += loss.item()\n",
        "    \n",
        "avg_test_loss = total_test_loss / len(test_dataloader)\n",
        "\n",
        "print(\"  RMSE: {0:.2f}\".format(avg_test_loss**0.5))\n",
        "\n",
        "testing_time = format_time(time.time() - t0)\n",
        "\n",
        "print(\"  Test Loss: {0:.2f}\".format(avg_test_loss))\n",
        "print(\"  Test took: {:}\".format(testing_time))\n"
      ],
      "metadata": {
        "id": "xwwgX1XItbNM"
      },
      "execution_count": null,
      "outputs": []
    },
    {
      "cell_type": "markdown",
      "source": [
        "Next, we evaluate the results:"
      ],
      "metadata": {
        "id": "pjhXDXvNymP0"
      }
    },
    {
      "cell_type": "code",
      "source": [
        "# Remove ugly depreciation warnings\n",
        "warnings.filterwarnings('ignore')\n",
        "\n",
        "# Lists for scaled data, RMSE and size, with each element coming from a group of predictions from a given label\n",
        "data=[]\n",
        "rmse=[]\n",
        "lengths=[]\n",
        "\n",
        "# Loop through each label group\n",
        "for rating in testing_stats:\n",
        "\n",
        "  # Scale data\n",
        "  data.append(torch.tensor(testing_stats[rating]).cpu()*10)\n",
        "  # Get size of prediction set\n",
        "  lengths.append(len(data[-1]))\n",
        "  # Calculate prediction error for set\n",
        "  error=torch.tensor(testing_stats[rating]).cpu()*10-float(rating)*10\n",
        "  # MSE for set\n",
        "  mse=np.power(error,2).mean()\n",
        "  # RMSE for set\n",
        "  rmse.append(np.power(mse,0.5).item())\n",
        "\n",
        "# Plot bar graph\n",
        "x=[1,2,3,4,5,6,7,8,9,10]\n",
        "meanlineprops = dict(linestyle='--', linewidth=1)\n",
        "flierprops = dict(marker='o', markerfacecolor='blue', markersize=1,markeredgecolor='none')\n",
        "plt.yticks(ticks=x)\n",
        "plt.hlines(x,0,11,linestyles='--',linewidth=0.3,color='grey')\n",
        "plt.boxplot(data,meanline=True,showmeans=True,meanprops=meanlineprops,flierprops=flierprops)\n",
        "plt.xlabel('Target Rating')\n",
        "plt.ylabel('Predicted Rating')\n",
        "plt.title('Rating predictions across test set')\n",
        "legend_elements = [Line2D([0], [0], color='g',linestyle='--', lw=1, label='Median'),Line2D([0], [0], color='orange', lw=1, label='Mean')]\n",
        "plt.legend(legend_elements,['Mean','Median','Outliers'])\n",
        "plt.show()"
      ],
      "metadata": {
        "colab": {
          "base_uri": "https://localhost:8080/",
          "height": 295
        },
        "id": "m-uBeLMsrdq8",
        "outputId": "03a1f1eb-0bb1-4cda-d741-3637ceb72c5a"
      },
      "execution_count": null,
      "outputs": [
        {
          "output_type": "display_data",
          "data": {
            "text/plain": [
              "<Figure size 432x288 with 1 Axes>"
            ],
            "image/png": "[encoded data removed]"
          },
          "metadata": {
            "needs_background": "light"
          }
        }
      ]
    },
    {
      "cell_type": "markdown",
      "source": [
        "The model performs almost identically in terms of MSE on the test and validation sets, as is expected when training for only 4 epochs. \n",
        "\n",
        "The figure above reveals the true performance of our model. Firstly, the prediction variance problem I discussed in my [EDA](https://github.com/shaikadish/imdbProject/blob/main/EDA_and_preprocessing.ipynb) for this project can clearly be seen in the long interquartile ranges and outliers for each target rating. Thankfully, there does not appear to be as much of a bias towards over-rating reviews as I expected, with the model being farely balanced in its over and under prediction of scores. \n",
        "\n",
        "Despite this variance, the model achieves **median values with an error less than 0.7 of the desired value for all target groups, mean values within an error less than 1 in all groups, and an average RMSE value bellow 1.4**.  In addition, there is a strong positive correlation between the predicted scores and the target scores across the ratings, indicating that despite the variance, the model is on average performing well in its predictions of review scores. \n",
        "\n",
        "I am happy with this result, given the problems with the dataset identified in the [EDA](https://github.com/shaikadish/imdbProject/blob/main/EDA_and_preprocessing.ipynb). The model is not performing perfectly, but it does seem to be able to predict review scores relatively well when given a review with enough discriptive information."
      ],
      "metadata": {
        "id": "NYugm3vJyppW"
      }
    },
    {
      "cell_type": "markdown",
      "source": [
        "# Wrapping things up\n",
        "\n",
        "That brings us to the end of this three part [tutorial](https://github.com/shaikadish/imdbProject). Whether you went through the whole thing, or just stole some code here and there, I hope you enjoyed it!\n",
        "\n",
        "If you would like to play around with the model and see if it can predict the correct score for your own movie review, check out this [interactive demo!](https://colab.research.google.com/github/shaikadish/imdbProject/blob/main/rating_predictor_demo.ipynb)"
      ],
      "metadata": {
        "id": "7-vLJiqO6_TZ"
      }
    }
  ],
  "metadata": {
    "accelerator": "GPU",
    "colab": {
      "name": "model_training_and_testing",
      "provenance": [],
      "collapsed_sections": [],
      "authorship_tag": "ABX9TyMSQGHz6TIYHfQZ2uJW3Xo9",
      "include_colab_link": true
    },
    "kernelspec": {
      "display_name": "Python 3",
      "name": "python3"
    },
    "language_info": {
      "name": "python"
    }
  },
  "nbformat": 4,
  "nbformat_minor": 0
}